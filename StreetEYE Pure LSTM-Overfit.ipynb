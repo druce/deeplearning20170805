{
 "cells": [
  {
   "cell_type": "code",
   "execution_count": 1,
   "metadata": {},
   "outputs": [
    {
     "name": "stderr",
     "output_type": "stream",
     "text": [
      "Using TensorFlow backend.\n"
     ]
    }
   ],
   "source": [
    "from __future__ import print_function\n",
    "import collections\n",
    "import numpy as np\n",
    "import pandas as pd\n",
    "import pickle\n",
    "import sklearn\n",
    "from keras.datasets import imdb\n",
    "from keras.models import Sequential\n",
    "from keras.layers import Dense, Dropout\n",
    "from keras.layers import LSTM\n",
    "from keras.layers.embeddings import Embedding\n",
    "from keras.preprocessing import sequence\n",
    "from keras.regularizers import L1L2\n",
    "from sklearn.model_selection import train_test_split\n",
    "\n",
    "# fix random seed for reproducibility\n",
    "np.random.seed(7)\n",
    "\n",
    "from pprint import pprint\n",
    "\n"
   ]
  },
  {
   "cell_type": "code",
   "execution_count": 2,
   "metadata": {
    "collapsed": true
   },
   "outputs": [],
   "source": [
    "# Global config variables \n",
    "model_name = \"streeteye_lstm\"\n",
    "#data_file = \"lstm_dump_test.txt\"\n",
    "data_file = \"dump_2017_words.txt\"\n",
    "\n",
    "checkpoint_dir = \"/home/ubuntu/mount/Notebooks/checkpoints\"\n",
    "tensorboard_dir =\"/home/ubuntu/mount/Notebooks/tensorboard\"\n"
   ]
  },
  {
   "cell_type": "code",
   "execution_count": 3,
   "metadata": {},
   "outputs": [
    {
     "name": "stdout",
     "output_type": "stream",
     "text": [
      "Loading data...\n",
      "Loaded data.\n"
     ]
    }
   ],
   "source": [
    "############################################################\n",
    "# 1. load data\n",
    "############################################################\n",
    "\n",
    "# load dataset\n",
    "print(\"Loading data...\")\n",
    "data=[]\n",
    "y=[]\n",
    "\n",
    "# count words\n",
    "c = collections.Counter()\n",
    "\n",
    "with open(data_file, \"r\") as infile:\n",
    "    for line in infile:\n",
    "        l = line.rstrip('\\n').split(\",\")\n",
    "        label = l.pop(0)\n",
    "        # skip empty headlines\n",
    "        if len(l[0]) == 0:\n",
    "            continue\n",
    "        if '' in l:\n",
    "            l = [w for w in l if w]\n",
    "        data.append(l)\n",
    "        y.append(label)\n",
    "        c.update(l)\n",
    "        \n",
    "print(\"Loaded data.\")\n"
   ]
  },
  {
   "cell_type": "code",
   "execution_count": 4,
   "metadata": {},
   "outputs": [
    {
     "name": "stdout",
     "output_type": "stream",
     "text": [
      "[['UNK', -1], ('domain_otherdomain', 119708), ('subsource_othersubsource', 47862), ('trump', 21141), ('with', 10761), ('domain_youtube.com', 8908), ('us', 8434), ('2017', 7862), ('from', 7768), ('subsource_memeorandum', 7712)]\n",
      "[('hazard', 17), ('alexei', 17), ('molly', 17), ('expel', 17), ('champ', 17), ('admiral', 17), ('conversational', 17), ('memorable', 17), ('wharton', 17), ('torn', 17)]\n"
     ]
    }
   ],
   "source": [
    "# create a list of top words        \n",
    "vocabulary_size = 10000 # set this to have ~20 for least popular\n",
    "count = [['UNK', -1]]\n",
    "count.extend(c.most_common(vocabulary_size - 1))\n",
    "print(count[:10])\n",
    "print(count[-10:])"
   ]
  },
  {
   "cell_type": "code",
   "execution_count": 5,
   "metadata": {
    "collapsed": true
   },
   "outputs": [],
   "source": [
    "dictionary = dict()\n",
    "# map words into a dict of ints\n",
    "for word, _ in count:\n",
    "    dictionary[word] = len(dictionary)\n",
    "\n",
    "data_embeddings=[]\n",
    "unk_count = 0\n",
    "\n",
    "for obs in data:\n",
    "    embedlist = []\n",
    "    for word in obs:\n",
    "        if word in dictionary:\n",
    "            index = dictionary[word]\n",
    "        else:\n",
    "            index = 0  # dictionary['UNK']\n",
    "            unk_count = unk_count + 1\n",
    "        embedlist.append(index)\n",
    "    data_embeddings.append(embedlist)\n",
    "        \n",
    "count[0][1] = unk_count\n",
    "reverse_dictionary = dict(zip(dictionary.values(), dictionary.keys()))"
   ]
  },
  {
   "cell_type": "code",
   "execution_count": 6,
   "metadata": {},
   "outputs": [
    {
     "name": "stdout",
     "output_type": "stream",
     "text": [
      "3\n",
      "trump\n"
     ]
    }
   ],
   "source": [
    "print(dictionary['trump'])\n",
    "print(reverse_dictionary[3])"
   ]
  },
  {
   "cell_type": "code",
   "execution_count": 8,
   "metadata": {},
   "outputs": [
    {
     "data": {
      "text/plain": [
       "array([[<matplotlib.axes._subplots.AxesSubplot object at 0x7fa2c5724b50>]], dtype=object)"
      ]
     },
     "execution_count": 8,
     "metadata": {},
     "output_type": "execute_result"
    },
    {
     "data": {
      "image/png": "[encoded data removed]",
      "text/plain": [
       "<matplotlib.figure.Figure at 0x7fa2c5724310>"
      ]
     },
     "metadata": {},
     "output_type": "display_data"
    }
   ],
   "source": [
    "%matplotlib inline\n",
    "ls = (map(len, data_embeddings))\n",
    "pd.DataFrame(ls).hist()\n"
   ]
  },
  {
   "cell_type": "code",
   "execution_count": 7,
   "metadata": {},
   "outputs": [
    {
     "data": {
      "text/plain": [
       "(218419, 120)"
      ]
     },
     "execution_count": 7,
     "metadata": {},
     "output_type": "execute_result"
    }
   ],
   "source": [
    "MAX_LENGTH = 120\n",
    "X = sequence.pad_sequences(data_embeddings, maxlen=MAX_LENGTH)\n",
    "X[0]\n",
    "X.shape"
   ]
  },
  {
   "cell_type": "code",
   "execution_count": 8,
   "metadata": {},
   "outputs": [
    {
     "name": "stdout",
     "output_type": "stream",
     "text": [
      "(218419, 1)\n",
      "Observations: 218419\n",
      "Features: 120\n",
      "Split into training, temp\n",
      "Split into xval, test\n"
     ]
    }
   ],
   "source": [
    "y=np.array(np.float32(y))\n",
    "\n",
    "y=y.reshape((y.shape[0],1))\n",
    "print(y.shape)\n",
    "num_labels=1\n",
    "\n",
    "num_obs, num_features = X.shape\n",
    "print(\"Observations: %d\\nFeatures: %d\" % (num_obs, num_features))\n",
    "\n",
    "# split into training, xval, test, 60/20/20\n",
    "print(\"Split into training, temp\")\n",
    "X_train, X_temp, y_train, y_temp = train_test_split(X, y, test_size=0.4)\n",
    "print(\"Split into xval, test\")\n",
    "X_xval, X_test, y_xval, y_test = train_test_split(X_temp, y_temp, test_size=0.5)\n"
   ]
  },
  {
   "cell_type": "code",
   "execution_count": 9,
   "metadata": {},
   "outputs": [
    {
     "name": "stdout",
     "output_type": "stream",
     "text": [
      "Training set\n",
      "(131051, 120)\n",
      "Xval set\n",
      "(43684, 120)\n",
      "Test set\n",
      "(43684, 120)\n",
      "\n",
      "Training observations:  131051  \n",
      "Xval observations:  43684  \n",
      "Test observations:  43684\n",
      "\n"
     ]
    }
   ],
   "source": [
    "\n",
    "print(\"Training set\")\n",
    "print(X_train.shape)\n",
    "\n",
    "print(\"Xval set\")\n",
    "print(X_xval.shape)\n",
    "\n",
    "print(\"Test set\")\n",
    "print(X_test.shape)\n",
    "\n",
    "num_training_samples = X_train.shape[0]\n",
    "num_xval_samples = X_xval.shape[0]\n",
    "num_test_samples = X_test.shape[0]\n",
    "\n",
    "print (\"\\nTraining observations:  %d  \\nXval observations:  %d  \\nTest observations:  %d\\n\" % (num_training_samples, num_xval_samples, num_test_samples))\n"
   ]
  },
  {
   "cell_type": "code",
   "execution_count": 10,
   "metadata": {
    "collapsed": true
   },
   "outputs": [],
   "source": [
    "# initialize embeddings to Google vals\n",
    "pkl_file = open('embeddings.pkl', 'rb')\n",
    "embeddings_dict, embeddings_reverse_dict, embeddings_data = pickle.load(pkl_file)"
   ]
  },
  {
   "cell_type": "code",
   "execution_count": 11,
   "metadata": {},
   "outputs": [
    {
     "name": "stdout",
     "output_type": "stream",
     "text": [
      "initialized 10000 embeddings\n"
     ]
    }
   ],
   "source": [
    "EMBEDDING_DIM=300\n",
    "\n",
    "embedding_matrix = np.zeros((len(dictionary) + 1, EMBEDDING_DIM))\n",
    "\n",
    "count = 0\n",
    "for word, i in dictionary.items():\n",
    "    #print(word)\n",
    "    embed_i = embeddings_dict.get(word)\n",
    "    if embed_i is not None:\n",
    "        embedding_vector = embeddings_data[i]\n",
    "        count +=1\n",
    "        embedding_matrix[i] = embedding_vector\n",
    "        \n",
    "print(\"initialized %d embeddings\" % count)"
   ]
  },
  {
   "cell_type": "code",
   "execution_count": 17,
   "metadata": {
    "collapsed": true
   },
   "outputs": [],
   "source": [
    "# function to generate model\n",
    "\n",
    "def create_model(lstm_size=30, lstm_reg_penalty=0.0, sigmoid_dropout=(1.0/3.0), sigmoid_reg_penalty=0.0001):\n",
    "    # create model\n",
    "    model = Sequential()\n",
    "\n",
    "    model.add(Embedding(len(dictionary) + 1, \n",
    "                        embedding_vector_length, \n",
    "                        weights=[embedding_matrix],\n",
    "                        input_length=MAX_LENGTH,\n",
    "                        trainable=False))\n",
    "    \n",
    "    # LSTM with lstm_size units\n",
    "    model.add(LSTM(lstm_size,\n",
    "                   kernel_regularizer=L1L2(l1=lstm_reg_penalty, l2=lstm_reg_penalty)))\n",
    "    model.add(Dropout(sigmoid_dropout))\n",
    "    model.add(Dense(1, \n",
    "                    activation='sigmoid',\n",
    "                    kernel_initializer='TruncatedNormal', \n",
    "                    kernel_regularizer=L1L2(l1=sigmoid_reg_penalty, l2=sigmoid_reg_penalty)))\n",
    "    model.compile(loss='binary_crossentropy', optimizer='adam', metrics=['accuracy'])\n",
    "    print(model.summary())\n",
    "    return model\n"
   ]
  },
  {
   "cell_type": "code",
   "execution_count": 18,
   "metadata": {
    "collapsed": true
   },
   "outputs": [],
   "source": [
    "def selectThreshold (logits, labels, beta=(2.0/3)):\n",
    "    # return threshold, f-score that yields best F-score\n",
    "    # predict using true if >= threshold\n",
    "\n",
    "    precision, recall, thresholds = sklearn.metrics.precision_recall_curve(labels, logits)\n",
    "    bb = beta**2\n",
    "    f1_scores = (1 + bb) * precision * recall / (bb * precision + recall)\n",
    "    best_index = np.argmax(f1_scores)\n",
    "    best_threshold = thresholds[best_index]\n",
    "    best_score = f1_scores[best_index]\n",
    "    return (best_threshold, best_score)"
   ]
  },
  {
   "cell_type": "code",
   "execution_count": 22,
   "metadata": {},
   "outputs": [
    {
     "name": "stdout",
     "output_type": "stream",
     "text": [
      "_________________________________________________________________\n",
      "Layer (type)                 Output Shape              Param #   \n",
      "=================================================================\n",
      "embedding_22 (Embedding)     (None, 120, 300)          3000300   \n",
      "_________________________________________________________________\n",
      "lstm_22 (LSTM)               (None, 16)                20288     \n",
      "_________________________________________________________________\n",
      "dropout_22 (Dropout)         (None, 16)                0         \n",
      "_________________________________________________________________\n",
      "dense_22 (Dense)             (None, 1)                 17        \n",
      "=================================================================\n",
      "Total params: 3,020,605.0\n",
      "Trainable params: 20,305.0\n",
      "Non-trainable params: 3,000,300.0\n",
      "_________________________________________________________________\n",
      "None\n",
      "LSTM units 16\n",
      "LSTM reg_penalty 0.00000000\n",
      "Sigmoid dropout 0.5000\n",
      "Sigmoid reg_penalty 0.00003000\n",
      "Train on 131051 samples, validate on 43684 samples\n",
      "Epoch 1/100\n",
      "131051/131051 [==============================] - 229s - loss: 0.1207 - acc: 0.9755 - val_loss: 0.0596 - val_acc: 0.9803\n",
      "Epoch 2/100\n",
      "131051/131051 [==============================] - 319s - loss: 0.0610 - acc: 0.9813 - val_loss: 0.0534 - val_acc: 0.9825\n",
      "Epoch 3/100\n",
      "131051/131051 [==============================] - 318s - loss: 0.0549 - acc: 0.9827 - val_loss: 0.0509 - val_acc: 0.9831\n",
      "Epoch 4/100\n",
      "131051/131051 [==============================] - 318s - loss: 0.0522 - acc: 0.9838 - val_loss: 0.0500 - val_acc: 0.9832\n",
      "Epoch 5/100\n",
      "131051/131051 [==============================] - 293s - loss: 0.0504 - acc: 0.9841 - val_loss: 0.0505 - val_acc: 0.9835\n",
      "Epoch 6/100\n",
      "131051/131051 [==============================] - 264s - loss: 0.0491 - acc: 0.9845 - val_loss: 0.0483 - val_acc: 0.9837\n",
      "Epoch 7/100\n",
      "131051/131051 [==============================] - 318s - loss: 0.0479 - acc: 0.9849 - val_loss: 0.0484 - val_acc: 0.9835\n",
      "Epoch 8/100\n",
      "131051/131051 [==============================] - 318s - loss: 0.0472 - acc: 0.9852 - val_loss: 0.0482 - val_acc: 0.9836\n",
      "Epoch 9/100\n",
      "131051/131051 [==============================] - 316s - loss: 0.0461 - acc: 0.9852 - val_loss: 0.0482 - val_acc: 0.9837\n",
      "Epoch 10/100\n",
      "131051/131051 [==============================] - 295s - loss: 0.0450 - acc: 0.9855 - val_loss: 0.0485 - val_acc: 0.9835\n",
      "Epoch 11/100\n",
      "131051/131051 [==============================] - 196s - loss: 0.0436 - acc: 0.9857 - val_loss: 0.0491 - val_acc: 0.9833\n",
      "Epoch 12/100\n",
      "131051/131051 [==============================] - 182s - loss: 0.0434 - acc: 0.9861 - val_loss: 0.0487 - val_acc: 0.9840\n",
      "Epoch 13/100\n",
      "131051/131051 [==============================] - 181s - loss: 0.0424 - acc: 0.9861 - val_loss: 0.0484 - val_acc: 0.9837\n",
      "Epoch 14/100\n",
      "131051/131051 [==============================] - 182s - loss: 0.0417 - acc: 0.9862 - val_loss: 0.0498 - val_acc: 0.9838\n",
      "Epoch 15/100\n",
      "131051/131051 [==============================] - 181s - loss: 0.0409 - acc: 0.9863 - val_loss: 0.0488 - val_acc: 0.9838\n",
      "Epoch 16/100\n",
      "131051/131051 [==============================] - 182s - loss: 0.0399 - acc: 0.9868 - val_loss: 0.0505 - val_acc: 0.9840\n",
      "Epoch 17/100\n",
      "131051/131051 [==============================] - 182s - loss: 0.0388 - acc: 0.9872 - val_loss: 0.0494 - val_acc: 0.9833\n",
      "Epoch 18/100\n",
      "131051/131051 [==============================] - 182s - loss: 0.0385 - acc: 0.9874 - val_loss: 0.0500 - val_acc: 0.9836\n",
      "Epoch 19/100\n",
      "131051/131051 [==============================] - 182s - loss: 0.0378 - acc: 0.9874 - val_loss: 0.0515 - val_acc: 0.9836\n",
      "Epoch 20/100\n",
      "131051/131051 [==============================] - 181s - loss: 0.0370 - acc: 0.9880 - val_loss: 0.0534 - val_acc: 0.9828\n",
      "Epoch 21/100\n",
      "131051/131051 [==============================] - 181s - loss: 0.0362 - acc: 0.9880 - val_loss: 0.0573 - val_acc: 0.9839\n",
      "Epoch 22/100\n",
      "131051/131051 [==============================] - 182s - loss: 0.0363 - acc: 0.9879 - val_loss: 0.0534 - val_acc: 0.9826\n",
      "Epoch 23/100\n",
      "131051/131051 [==============================] - 181s - loss: 0.0350 - acc: 0.9883 - val_loss: 0.0532 - val_acc: 0.9832\n",
      "Epoch 24/100\n",
      "131051/131051 [==============================] - 182s - loss: 0.0344 - acc: 0.9883 - val_loss: 0.0644 - val_acc: 0.9814\n",
      "Epoch 25/100\n",
      "131051/131051 [==============================] - 182s - loss: 0.0336 - acc: 0.9889 - val_loss: 0.0567 - val_acc: 0.9835\n",
      "Epoch 26/100\n",
      "131051/131051 [==============================] - 181s - loss: 0.0329 - acc: 0.9889 - val_loss: 0.0559 - val_acc: 0.9835\n",
      "Epoch 27/100\n",
      "131051/131051 [==============================] - 181s - loss: 0.0321 - acc: 0.9891 - val_loss: 0.0550 - val_acc: 0.9831\n",
      "Epoch 28/100\n",
      "131051/131051 [==============================] - 182s - loss: 0.0313 - acc: 0.9894 - val_loss: 0.0593 - val_acc: 0.9832\n",
      "Epoch 29/100\n",
      "131051/131051 [==============================] - 182s - loss: 0.0306 - acc: 0.9897 - val_loss: 0.0592 - val_acc: 0.9822\n",
      "Epoch 30/100\n",
      "131051/131051 [==============================] - 182s - loss: 0.0303 - acc: 0.9898 - val_loss: 0.0619 - val_acc: 0.9823\n",
      "Epoch 31/100\n",
      "131051/131051 [==============================] - 182s - loss: 0.0295 - acc: 0.9903 - val_loss: 0.0631 - val_acc: 0.9832\n",
      "Epoch 32/100\n",
      "131051/131051 [==============================] - 182s - loss: 0.0297 - acc: 0.9899 - val_loss: 0.0636 - val_acc: 0.9826\n",
      "Epoch 33/100\n",
      "131051/131051 [==============================] - 181s - loss: 0.0277 - acc: 0.9908 - val_loss: 0.0654 - val_acc: 0.9822\n",
      "Epoch 34/100\n",
      "131051/131051 [==============================] - 182s - loss: 0.0274 - acc: 0.9910 - val_loss: 0.0674 - val_acc: 0.9831\n",
      "Epoch 35/100\n",
      "131051/131051 [==============================] - 181s - loss: 0.0262 - acc: 0.9915 - val_loss: 0.0661 - val_acc: 0.9830\n",
      "Epoch 36/100\n",
      "131051/131051 [==============================] - 181s - loss: 0.0261 - acc: 0.9914 - val_loss: 0.0670 - val_acc: 0.9811\n",
      "Epoch 37/100\n",
      "131051/131051 [==============================] - 181s - loss: 0.0255 - acc: 0.9916 - val_loss: 0.0730 - val_acc: 0.9828\n",
      "Epoch 38/100\n",
      "131051/131051 [==============================] - 181s - loss: 0.0255 - acc: 0.9917 - val_loss: 0.0717 - val_acc: 0.9820\n",
      "Epoch 39/100\n",
      "131051/131051 [==============================] - 182s - loss: 0.0244 - acc: 0.9923 - val_loss: 0.0777 - val_acc: 0.9830\n",
      "Epoch 40/100\n",
      "131051/131051 [==============================] - 183s - loss: 0.0241 - acc: 0.9918 - val_loss: 0.0740 - val_acc: 0.9815\n",
      "Epoch 41/100\n",
      "131051/131051 [==============================] - 181s - loss: 0.0234 - acc: 0.9923 - val_loss: 0.0710 - val_acc: 0.9821\n",
      "Epoch 42/100\n",
      "131051/131051 [==============================] - 181s - loss: 0.0225 - acc: 0.9928 - val_loss: 0.0853 - val_acc: 0.9824\n",
      "Epoch 43/100\n",
      "131051/131051 [==============================] - 181s - loss: 0.0248 - acc: 0.9917 - val_loss: 0.0753 - val_acc: 0.9825\n",
      "Epoch 44/100\n",
      "131051/131051 [==============================] - 181s - loss: 0.0217 - acc: 0.9932 - val_loss: 0.0762 - val_acc: 0.9814\n",
      "Epoch 45/100\n",
      "131051/131051 [==============================] - 181s - loss: 0.0210 - acc: 0.9931 - val_loss: 0.0858 - val_acc: 0.9807\n",
      "Epoch 46/100\n",
      "131051/131051 [==============================] - 181s - loss: 0.0211 - acc: 0.9935 - val_loss: 0.0796 - val_acc: 0.9820\n",
      "Epoch 47/100\n",
      "131051/131051 [==============================] - 182s - loss: 0.0202 - acc: 0.9938 - val_loss: 0.0866 - val_acc: 0.9813\n",
      "Epoch 48/100\n",
      "131051/131051 [==============================] - 181s - loss: 0.0198 - acc: 0.9936 - val_loss: 0.0862 - val_acc: 0.9810\n",
      "Epoch 49/100\n",
      "131051/131051 [==============================] - 181s - loss: 0.0193 - acc: 0.9939 - val_loss: 0.0921 - val_acc: 0.9814\n",
      "Epoch 50/100\n",
      "131051/131051 [==============================] - 182s - loss: 0.0196 - acc: 0.9937 - val_loss: 0.0879 - val_acc: 0.9807\n",
      "Epoch 51/100\n",
      "131051/131051 [==============================] - 182s - loss: 0.0186 - acc: 0.9940 - val_loss: 0.0920 - val_acc: 0.9811\n",
      "Epoch 52/100\n",
      "131051/131051 [==============================] - 181s - loss: 0.0182 - acc: 0.9944 - val_loss: 0.0922 - val_acc: 0.9820\n",
      "Epoch 53/100\n",
      "131051/131051 [==============================] - 182s - loss: 0.0174 - acc: 0.9948 - val_loss: 0.0985 - val_acc: 0.9815\n",
      "Epoch 54/100\n"
     ]
    },
    {
     "name": "stdout",
     "output_type": "stream",
     "text": [
      "131051/131051 [==============================] - 182s - loss: 0.0173 - acc: 0.9949 - val_loss: 0.0936 - val_acc: 0.9802\n",
      "Epoch 55/100\n",
      "131051/131051 [==============================] - 183s - loss: 0.0193 - acc: 0.9942 - val_loss: 0.0833 - val_acc: 0.9796\n",
      "Epoch 56/100\n",
      "131051/131051 [==============================] - 182s - loss: 0.0172 - acc: 0.9949 - val_loss: 0.0994 - val_acc: 0.9816\n",
      "Epoch 57/100\n",
      "131051/131051 [==============================] - 183s - loss: 0.0161 - acc: 0.9953 - val_loss: 0.0932 - val_acc: 0.9784\n",
      "Epoch 58/100\n",
      "131051/131051 [==============================] - 182s - loss: 0.0163 - acc: 0.9952 - val_loss: 0.0956 - val_acc: 0.9811\n",
      "Epoch 59/100\n",
      "131051/131051 [==============================] - 183s - loss: 0.0161 - acc: 0.9952 - val_loss: 0.1003 - val_acc: 0.9802\n",
      "Epoch 60/100\n",
      "131051/131051 [==============================] - 182s - loss: 0.0152 - acc: 0.9955 - val_loss: 0.1010 - val_acc: 0.9807\n",
      "Epoch 61/100\n",
      "131051/131051 [==============================] - 182s - loss: 0.0149 - acc: 0.9958 - val_loss: 0.1039 - val_acc: 0.9808\n",
      "Epoch 62/100\n",
      "131051/131051 [==============================] - 181s - loss: 0.0153 - acc: 0.9955 - val_loss: 0.0980 - val_acc: 0.9816\n",
      "Epoch 63/100\n",
      "131051/131051 [==============================] - 182s - loss: 0.0142 - acc: 0.9961 - val_loss: 0.1078 - val_acc: 0.9800\n",
      "Epoch 64/100\n",
      "131051/131051 [==============================] - 182s - loss: 0.0143 - acc: 0.9960 - val_loss: 0.1094 - val_acc: 0.9799\n",
      "Epoch 65/100\n",
      "131051/131051 [==============================] - 182s - loss: 0.0141 - acc: 0.9961 - val_loss: 0.1125 - val_acc: 0.9806\n",
      "Epoch 66/100\n",
      "131051/131051 [==============================] - 182s - loss: 0.0131 - acc: 0.9962 - val_loss: 0.1099 - val_acc: 0.9799\n",
      "Epoch 67/100\n",
      "131051/131051 [==============================] - 182s - loss: 0.0135 - acc: 0.9962 - val_loss: 0.1135 - val_acc: 0.9810\n",
      "Epoch 68/100\n",
      "131051/131051 [==============================] - 182s - loss: 0.0136 - acc: 0.9961 - val_loss: 0.1146 - val_acc: 0.9790\n",
      "Epoch 69/100\n",
      "131051/131051 [==============================] - 182s - loss: 0.0131 - acc: 0.9964 - val_loss: 0.1121 - val_acc: 0.9800\n",
      "Epoch 70/100\n",
      "131051/131051 [==============================] - 182s - loss: 0.0141 - acc: 0.9965 - val_loss: 0.1042 - val_acc: 0.9803\n",
      "Epoch 71/100\n",
      "131051/131051 [==============================] - 183s - loss: 0.0130 - acc: 0.9966 - val_loss: 0.1117 - val_acc: 0.9802\n",
      "Epoch 72/100\n",
      "131051/131051 [==============================] - 182s - loss: 0.0122 - acc: 0.9967 - val_loss: 0.1123 - val_acc: 0.9804\n",
      "Epoch 73/100\n",
      "131051/131051 [==============================] - 182s - loss: 0.0135 - acc: 0.9964 - val_loss: 0.1137 - val_acc: 0.9809\n",
      "Epoch 74/100\n",
      "131051/131051 [==============================] - 183s - loss: 0.0125 - acc: 0.9968 - val_loss: 0.1122 - val_acc: 0.9796\n",
      "Epoch 75/100\n",
      "131051/131051 [==============================] - 182s - loss: 0.0118 - acc: 0.9970 - val_loss: 0.1141 - val_acc: 0.9810\n",
      "Epoch 76/100\n",
      "131051/131051 [==============================] - 181s - loss: 0.0106 - acc: 0.9974 - val_loss: 0.1237 - val_acc: 0.9816\n",
      "Epoch 77/100\n",
      "131051/131051 [==============================] - 181s - loss: 0.0115 - acc: 0.9971 - val_loss: 0.1186 - val_acc: 0.9812\n",
      "Epoch 78/100\n",
      "131051/131051 [==============================] - 182s - loss: 0.0127 - acc: 0.9967 - val_loss: 0.1116 - val_acc: 0.9807\n",
      "Epoch 79/100\n",
      "131051/131051 [==============================] - 182s - loss: 0.0115 - acc: 0.9972 - val_loss: 0.1185 - val_acc: 0.9804\n",
      "Epoch 80/100\n",
      "131051/131051 [==============================] - 182s - loss: 0.0134 - acc: 0.9965 - val_loss: 0.1140 - val_acc: 0.9808\n",
      "Epoch 81/100\n",
      "131051/131051 [==============================] - 182s - loss: 0.0105 - acc: 0.9974 - val_loss: 0.1226 - val_acc: 0.9793\n",
      "Epoch 82/100\n",
      "131051/131051 [==============================] - 183s - loss: 0.0103 - acc: 0.9974 - val_loss: 0.1253 - val_acc: 0.9794\n",
      "Epoch 83/100\n",
      "131051/131051 [==============================] - 182s - loss: 0.0104 - acc: 0.9975 - val_loss: 0.1268 - val_acc: 0.9800\n",
      "Epoch 84/100\n",
      "131051/131051 [==============================] - 183s - loss: 0.0112 - acc: 0.9971 - val_loss: 0.1241 - val_acc: 0.9801\n",
      "Epoch 85/100\n",
      "131051/131051 [==============================] - 183s - loss: 0.0113 - acc: 0.9973 - val_loss: 0.1202 - val_acc: 0.9798\n",
      "Epoch 86/100\n",
      "131051/131051 [==============================] - 183s - loss: 0.0108 - acc: 0.9974 - val_loss: 0.1188 - val_acc: 0.9805\n",
      "Epoch 87/100\n",
      "131051/131051 [==============================] - 183s - loss: 0.0096 - acc: 0.9976 - val_loss: 0.1279 - val_acc: 0.9805\n",
      "Epoch 88/100\n",
      "131051/131051 [==============================] - 183s - loss: 0.0098 - acc: 0.9976 - val_loss: 0.1241 - val_acc: 0.9794\n",
      "Epoch 89/100\n",
      "131051/131051 [==============================] - 184s - loss: 0.0094 - acc: 0.9978 - val_loss: 0.1316 - val_acc: 0.9799\n",
      "Epoch 90/100\n",
      "131051/131051 [==============================] - 183s - loss: 0.0115 - acc: 0.9972 - val_loss: 0.1219 - val_acc: 0.9801\n",
      "Epoch 91/100\n",
      "131051/131051 [==============================] - 183s - loss: 0.0089 - acc: 0.9979 - val_loss: 0.1347 - val_acc: 0.9804\n",
      "Epoch 92/100\n",
      "131051/131051 [==============================] - 184s - loss: 0.0119 - acc: 0.9972 - val_loss: 0.1200 - val_acc: 0.9804\n",
      "Epoch 93/100\n",
      "131051/131051 [==============================] - 184s - loss: 0.0089 - acc: 0.9980 - val_loss: 0.1342 - val_acc: 0.9794\n",
      "Epoch 94/100\n",
      "131051/131051 [==============================] - 183s - loss: 0.0096 - acc: 0.9978 - val_loss: 0.1278 - val_acc: 0.9800\n",
      "Epoch 95/100\n",
      "131051/131051 [==============================] - 183s - loss: 0.0087 - acc: 0.9982 - val_loss: 0.1309 - val_acc: 0.9804\n",
      "Epoch 96/100\n",
      "131051/131051 [==============================] - 183s - loss: 0.0098 - acc: 0.9979 - val_loss: 0.1332 - val_acc: 0.9788\n",
      "Epoch 97/100\n",
      "131051/131051 [==============================] - 183s - loss: 0.0095 - acc: 0.9977 - val_loss: 0.1262 - val_acc: 0.9801\n",
      "Epoch 98/100\n",
      "131051/131051 [==============================] - 183s - loss: 0.0095 - acc: 0.9977 - val_loss: 0.1300 - val_acc: 0.9799\n",
      "Epoch 99/100\n",
      "131051/131051 [==============================] - 184s - loss: 0.0089 - acc: 0.9980 - val_loss: 0.1355 - val_acc: 0.9794\n",
      "Epoch 100/100\n",
      "131051/131051 [==============================] - 183s - loss: 0.0095 - acc: 0.9979 - val_loss: 0.1326 - val_acc: 0.9793\n",
      "Train Accuracy 0.999, Train F1 0.975, f_score 0.981 (beta 0.667)\n",
      "[[127430    144]\n",
      " [    30   3447]]\n",
      "LSTM units 16\n",
      "LSTM reg_penalty 0.00000000\n",
      "Sigmoid dropout 0.5000\n",
      "Sigmoid reg_penalty 0.00003000\n",
      "Xval Accuracy 0.981, Xval F1 0.627, f_score 0.670 (beta 0.667)\n",
      "[[42188   590]\n",
      " [  223   683]]\n",
      "Raw score 0.023716\n"
     ]
    }
   ],
   "source": [
    "# create the model\n",
    "embedding_vector_length = EMBEDDING_DIM\n",
    "\n",
    "for sig_reg_penalty in [0.00003]:\n",
    "    for dropout in [0.5]:\n",
    "        for lstm_units in [16,]:\n",
    "            #, 32, 64]:\n",
    "            for lstm_reg_penalty in [0.00000,]:\n",
    "                #0.000001, 0.000003, 0.00001, 0.00003]:\n",
    "                model = create_model(lstm_size=lstm_units, \n",
    "                                     lstm_reg_penalty=lstm_reg_penalty, \n",
    "                                     sigmoid_dropout=dropout, \n",
    "                                     sigmoid_reg_penalty=sig_reg_penalty)\n",
    "                print (\"LSTM units %d\" % lstm_units)\n",
    "                print (\"LSTM reg_penalty %.8f\" % lstm_reg_penalty)\n",
    "                print (\"Sigmoid dropout %.4f\" %  dropout)\n",
    "                print (\"Sigmoid reg_penalty %.8f\" % sig_reg_penalty)\n",
    "                \n",
    "                model.fit(X_train, y_train, validation_data=(X_xval, y_xval), epochs=100, batch_size=128)\n",
    "                \n",
    "                y_train_prob = model.predict(X_train)\n",
    "                \n",
    "                beta=(2.0/3.0) # penalize false positives more than false negatives\n",
    "                thresh, score = selectThreshold(y_train_prob, y_train, beta=beta)\n",
    "                y_train_pred = y_train_prob >= thresh\n",
    "                \n",
    "                print(\"Train Accuracy %.3f, Train F1 %.3f, f_score %.3f (beta %.3f)\" % \n",
    "                      (sklearn.metrics.accuracy_score(y_train_pred, y_train), \n",
    "                       sklearn.metrics.f1_score(y_train_pred, y_train),\n",
    "                       score, beta))\n",
    "                \n",
    "                print(sklearn.metrics.confusion_matrix(y_train_pred, y_train))\n",
    "\n",
    "                y_xval_prob = model.predict(X_xval)\n",
    "                \n",
    "                thresh, score = selectThreshold(y_xval_prob, y_xval, beta=beta)\n",
    "                y_xval_pred = y_xval_prob >= thresh\n",
    "                \n",
    "                print (\"LSTM units %d\" % lstm_units)\n",
    "                print (\"LSTM reg_penalty %.8f\" % lstm_reg_penalty)\n",
    "                print (\"Sigmoid dropout %.4f\" %  dropout)\n",
    "                print (\"Sigmoid reg_penalty %.8f\" % sig_reg_penalty)                \n",
    "\n",
    "                print(\"Xval Accuracy %.3f, Xval F1 %.3f, f_score %.3f (beta %.3f)\" % \n",
    "                      (sklearn.metrics.accuracy_score(y_xval_pred, y_xval), \n",
    "                       sklearn.metrics.f1_score(y_xval_pred, y_xval),\n",
    "                       score, beta))\n",
    "                \n",
    "                confusion_matrix = sklearn.metrics.confusion_matrix(y_xval_pred, y_xval)\n",
    "                print(confusion_matrix)\n",
    "                false_positive = confusion_matrix[1][0]\n",
    "                false_negative = confusion_matrix[0][1]\n",
    "                raw_score = (2.0*false_positive + false_negative) / np.sum(confusion_matrix)\n",
    "                    \n",
    "                print (\"Raw score %f\" % raw_score)\n",
    "\n",
    "                \n"
   ]
  },
  {
   "cell_type": "code",
   "execution_count": 15,
   "metadata": {},
   "outputs": [
    {
     "name": "stdout",
     "output_type": "stream",
     "text": [
      "Train Accuracy 0.996, Train F1 0.931, f_score 0.944 (beta 0.667)\n",
      "[[127340    358]\n",
      " [   120   3233]]\n"
     ]
    }
   ],
   "source": [
    "y_train_prob = model.predict(X_train)\n",
    "beta=(2.0/3.0) # penalize false positives more than false negatives\n",
    "\n",
    "thresh, score = selectThreshold(y_train_prob, y_train, beta=beta)\n",
    "y_train_pred = y_train_prob >= thresh\n",
    "print(\"Train Accuracy %.3f, Train F1 %.3f, f_score %.3f (beta %.3f)\" % \n",
    "                      (sklearn.metrics.accuracy_score(y_train_pred, y_train), \n",
    "                       sklearn.metrics.f1_score(y_train_pred, y_train),\n",
    "                       score, beta))\n",
    "                \n",
    "print(sklearn.metrics.confusion_matrix(y_train_pred, y_train))\n",
    " "
   ]
  },
  {
   "cell_type": "code",
   "execution_count": 16,
   "metadata": {},
   "outputs": [
    {
     "name": "stdout",
     "output_type": "stream",
     "text": [
      "Xval Accuracy 0.971, Xval F1 0.000, f_score nan (beta 0.667)\n",
      "[[42410  1273]\n",
      " [    1     0]]\n"
     ]
    },
    {
     "name": "stderr",
     "output_type": "stream",
     "text": [
      "/home/ubuntu/anaconda2/envs/tensorflow/lib/python2.7/site-packages/ipykernel_launcher.py:7: RuntimeWarning: invalid value encountered in divide\n",
      "  import sys\n"
     ]
    }
   ],
   "source": [
    "                y_xval_prob = model.predict(X_xval)\n",
    "                \n",
    "                thresh, score = selectThreshold(y_xval_prob, y_xval, beta=beta)\n",
    "                y_xval_pred = y_xval_prob >= thresh\n",
    "\n",
    "                print(\"Xval Accuracy %.3f, Xval F1 %.3f, f_score %.3f (beta %.3f)\" % \n",
    "                      (sklearn.metrics.accuracy_score(y_xval_pred, y_xval), \n",
    "                       sklearn.metrics.f1_score(y_xval_pred, y_xval),\n",
    "                       score, beta))\n",
    "                \n",
    "                print(sklearn.metrics.confusion_matrix(y_xval_pred, y_xval))\n",
    "\n",
    "       "
   ]
  },
  {
   "cell_type": "code",
   "execution_count": 17,
   "metadata": {},
   "outputs": [
    {
     "name": "stdout",
     "output_type": "stream",
     "text": [
      "Test Accuracy 0.971, Test F1 0.002, f_score nan (beta 0.667)\n",
      "[[42437  1246]\n",
      " [    0     1]]\n"
     ]
    }
   ],
   "source": [
    "y_test_prob = model.predict(X_test)\n",
    "beta=(2.0/3.0) # penalize false positives more than false negatives\n",
    "\n",
    "y_test_pred = y_test_prob >= thresh\n",
    "print(\"Test Accuracy %.3f, Test F1 %.3f, f_score %.3f (beta %.3f)\" % \n",
    "                      (sklearn.metrics.accuracy_score(y_test_pred, y_test), \n",
    "                       sklearn.metrics.f1_score(y_test_pred, y_test),\n",
    "                       score, beta))\n",
    "                \n",
    "print(sklearn.metrics.confusion_matrix(y_test_pred, y_test))\n"
   ]
  },
  {
   "cell_type": "code",
   "execution_count": null,
   "metadata": {
    "collapsed": true
   },
   "outputs": [],
   "source": []
  }
 ],
 "metadata": {
  "kernelspec": {
   "display_name": "TensorFlow",
   "language": "python",
   "name": "tensorflow"
  },
  "language_info": {
   "codemirror_mode": {
    "name": "ipython",
    "version": 2
   },
   "file_extension": ".py",
   "mimetype": "text/x-python",
   "name": "python",
   "nbconvert_exporter": "python",
   "pygments_lexer": "ipython2",
   "version": "2.7.13"
  }
 },
 "nbformat": 4,
 "nbformat_minor": 2
}

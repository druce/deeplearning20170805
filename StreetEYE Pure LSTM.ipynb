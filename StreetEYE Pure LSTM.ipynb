{
 "cells": [
  {
   "cell_type": "code",
   "execution_count": 1,
   "metadata": {},
   "outputs": [
    {
     "name": "stderr",
     "output_type": "stream",
     "text": [
      "Using TensorFlow backend.\n"
     ]
    }
   ],
   "source": [
    "from __future__ import print_function\n",
    "import collections\n",
    "import numpy as np\n",
    "import pandas as pd\n",
    "import pickle\n",
    "import sklearn\n",
    "from keras.datasets import imdb\n",
    "from keras.models import Sequential\n",
    "from keras.layers import Dense, Dropout\n",
    "from keras.layers import LSTM\n",
    "from keras.layers.embeddings import Embedding\n",
    "from keras.preprocessing import sequence\n",
    "from keras.regularizers import l1\n",
    "from keras import backend as K\n",
    "import tensorflow as tf\n",
    "\n",
    "from sklearn.model_selection import train_test_split\n",
    "\n",
    "# fix random seed for reproducibility\n",
    "np.random.seed(7)\n",
    "\n",
    "# create session explicitly and keep a reference\n",
    "# so we can access and evaluate tensors directly \n",
    "sess = tf.Session()\n",
    "K.set_session(sess)\n",
    "\n"
   ]
  },
  {
   "cell_type": "code",
   "execution_count": 2,
   "metadata": {
    "collapsed": true
   },
   "outputs": [],
   "source": [
    "# Global config variables \n",
    "model_name = \"streeteye_lstm\"\n",
    "#data_file = \"lstm_dump_test.txt\"\n",
    "data_file = \"dump_2017_words.txt\"\n",
    "\n",
    "checkpoint_dir = \"/home/ubuntu/mount/Notebooks/checkpoints\"\n",
    "tensorboard_dir =\"/home/ubuntu/mount/Notebooks/tensorboard\"\n"
   ]
  },
  {
   "cell_type": "code",
   "execution_count": 3,
   "metadata": {},
   "outputs": [
    {
     "name": "stdout",
     "output_type": "stream",
     "text": [
      "Loading data...\n",
      "Loaded data.\n"
     ]
    }
   ],
   "source": [
    "############################################################\n",
    "# 1. load data\n",
    "############################################################\n",
    "\n",
    "# load dataset\n",
    "print(\"Loading data...\")\n",
    "data=[]\n",
    "y=[]\n",
    "\n",
    "# count words\n",
    "c = collections.Counter()\n",
    "\n",
    "with open(data_file, \"r\") as infile:\n",
    "    for line in infile:\n",
    "        l = line.rstrip('\\n').split(\",\")\n",
    "        label = l.pop(0)\n",
    "        # skip empty headlines\n",
    "        if len(l[0]) == 0:\n",
    "            continue\n",
    "        if '' in l:\n",
    "            l = [w for w in l if w]\n",
    "        data.append(l)\n",
    "        y.append(label)\n",
    "        c.update(l)\n",
    "        \n",
    "print(\"Loaded data.\")\n"
   ]
  },
  {
   "cell_type": "code",
   "execution_count": 4,
   "metadata": {},
   "outputs": [
    {
     "name": "stdout",
     "output_type": "stream",
     "text": [
      "[['UNK', -1], ('domain_otherdomain', 119708), ('subsource_othersubsource', 47862), ('trump', 21141), ('with', 10761), ('domain_youtube.com', 8908), ('us', 8434), ('2017', 7862), ('from', 7768), ('subsource_memeorandum', 7712)]\n",
      "[('hazard', 17), ('alexei', 17), ('molly', 17), ('expel', 17), ('champ', 17), ('admiral', 17), ('conversational', 17), ('memorable', 17), ('wharton', 17), ('torn', 17)]\n"
     ]
    }
   ],
   "source": [
    "# create a list of top words        \n",
    "vocabulary_size = 10000 # set this to have ~20 for least popular\n",
    "count = [['UNK', -1]]\n",
    "count.extend(c.most_common(vocabulary_size - 1))\n",
    "print(count[:10])\n",
    "print(count[-10:])"
   ]
  },
  {
   "cell_type": "code",
   "execution_count": 5,
   "metadata": {
    "collapsed": true
   },
   "outputs": [],
   "source": [
    "dictionary = dict()\n",
    "# map words into a dict of ints\n",
    "for word, _ in count:\n",
    "    dictionary[word] = len(dictionary)\n",
    "\n",
    "data_embeddings=[]\n",
    "unk_count = 0\n",
    "\n",
    "for obs in data:\n",
    "    embedlist = []\n",
    "    for word in obs:\n",
    "        if word in dictionary:\n",
    "            index = dictionary[word]\n",
    "        else:\n",
    "            index = 0  # dictionary['UNK']\n",
    "            unk_count = unk_count + 1\n",
    "        embedlist.append(index)\n",
    "    data_embeddings.append(embedlist)\n",
    "        \n",
    "count[0][1] = unk_count\n",
    "reverse_dictionary = dict(zip(dictionary.values(), dictionary.keys()))"
   ]
  },
  {
   "cell_type": "code",
   "execution_count": 6,
   "metadata": {},
   "outputs": [
    {
     "name": "stdout",
     "output_type": "stream",
     "text": [
      "3\n",
      "trump\n"
     ]
    }
   ],
   "source": [
    "print(dictionary['trump'])\n",
    "print(reverse_dictionary[3])"
   ]
  },
  {
   "cell_type": "code",
   "execution_count": 7,
   "metadata": {},
   "outputs": [
    {
     "data": {
      "text/plain": [
       "array([[<matplotlib.axes._subplots.AxesSubplot object at 0x7f43fefbcc90>]], dtype=object)"
      ]
     },
     "execution_count": 7,
     "metadata": {},
     "output_type": "execute_result"
    },
    {
     "data": {
      "image/png": "[encoded data removed]",
      "text/plain": [
       "<matplotlib.figure.Figure at 0x7f43fefbc450>"
      ]
     },
     "metadata": {},
     "output_type": "display_data"
    }
   ],
   "source": [
    "%matplotlib inline\n",
    "ls = (map(len, data_embeddings))\n",
    "pd.DataFrame(ls).hist()\n"
   ]
  },
  {
   "cell_type": "code",
   "execution_count": 7,
   "metadata": {},
   "outputs": [
    {
     "data": {
      "text/plain": [
       "(218419, 120)"
      ]
     },
     "execution_count": 7,
     "metadata": {},
     "output_type": "execute_result"
    }
   ],
   "source": [
    "MAX_LENGTH = 120\n",
    "X = sequence.pad_sequences(data_embeddings, maxlen=MAX_LENGTH)\n",
    "X[0]\n",
    "X.shape"
   ]
  },
  {
   "cell_type": "code",
   "execution_count": 8,
   "metadata": {},
   "outputs": [
    {
     "name": "stdout",
     "output_type": "stream",
     "text": [
      "(218419, 1)\n",
      "Observations: 218419\n",
      "Features: 120\n",
      "Split into training, temp\n",
      "Split into xval, test\n"
     ]
    }
   ],
   "source": [
    "y=np.array(np.float32(y))\n",
    "\n",
    "y=y.reshape((y.shape[0],1))\n",
    "print(y.shape)\n",
    "num_labels=1\n",
    "\n",
    "num_obs, num_features = X.shape\n",
    "print(\"Observations: %d\\nFeatures: %d\" % (num_obs, num_features))\n",
    "\n",
    "# split into training, xval, test, 60/20/20\n",
    "print(\"Split into training, temp\")\n",
    "X_train, X_temp, y_train, y_temp = train_test_split(X, y, test_size=0.4)\n",
    "print(\"Split into xval, test\")\n",
    "X_xval, X_test, y_xval, y_test = train_test_split(X_temp, y_temp, test_size=0.5)\n"
   ]
  },
  {
   "cell_type": "code",
   "execution_count": 9,
   "metadata": {},
   "outputs": [
    {
     "name": "stdout",
     "output_type": "stream",
     "text": [
      "Training set\n",
      "(131051, 120)\n",
      "Xval set\n",
      "(43684, 120)\n",
      "Test set\n",
      "(43684, 120)\n",
      "\n",
      "Training observations:  131051  \n",
      "Xval observations:  43684  \n",
      "Test observations:  43684\n",
      "\n"
     ]
    }
   ],
   "source": [
    "\n",
    "print(\"Training set\")\n",
    "print(X_train.shape)\n",
    "\n",
    "print(\"Xval set\")\n",
    "print(X_xval.shape)\n",
    "\n",
    "print(\"Test set\")\n",
    "print(X_test.shape)\n",
    "\n",
    "num_training_samples = X_train.shape[0]\n",
    "num_xval_samples = X_xval.shape[0]\n",
    "num_test_samples = X_test.shape[0]\n",
    "\n",
    "print (\"\\nTraining observations:  %d  \\nXval observations:  %d  \\nTest observations:  %d\\n\" % (num_training_samples, num_xval_samples, num_test_samples))\n"
   ]
  },
  {
   "cell_type": "code",
   "execution_count": 10,
   "metadata": {
    "collapsed": true
   },
   "outputs": [],
   "source": [
    "# initialize embeddings to pre-trained vals\n",
    "pkl_file = open('embeddings.pkl', 'rb')\n",
    "embeddings_dict, embeddings_reverse_dict, embeddings_data = pickle.load(pkl_file)"
   ]
  },
  {
   "cell_type": "code",
   "execution_count": 11,
   "metadata": {},
   "outputs": [
    {
     "name": "stdout",
     "output_type": "stream",
     "text": [
      "initialized 10000 embeddings\n"
     ]
    }
   ],
   "source": [
    "EMBEDDING_DIM=300\n",
    "\n",
    "# +1 seems like an off-by-one somewhere\n",
    "embedding_matrix = np.zeros((len(dictionary) + 1, EMBEDDING_DIM))\n",
    "\n",
    "count = 0\n",
    "for word, i in dictionary.items():\n",
    "    #print(word)\n",
    "    embed_i = embeddings_dict.get(word)\n",
    "    if embed_i is not None:\n",
    "        embedding_vector = embeddings_data[i]\n",
    "        count +=1\n",
    "        embedding_matrix[i] = embedding_vector\n",
    "        \n",
    "print(\"initialized %d embeddings\" % count)"
   ]
  },
  {
   "cell_type": "code",
   "execution_count": 22,
   "metadata": {
    "collapsed": true
   },
   "outputs": [],
   "source": [
    "# function to generate model\n",
    "\n",
    "def create_model(lstm_size=30, lstm_reg_penalty=0.0, sigmoid_dropout=(1.0/3.0), sigmoid_reg_penalty=0.0001):\n",
    "    # create model\n",
    "    model = Sequential()\n",
    "\n",
    "    model.add(Embedding(len(dictionary) + 1, \n",
    "                        embedding_vector_length, \n",
    "                        weights=[embedding_matrix],\n",
    "                        input_length=MAX_LENGTH,\n",
    "                        trainable=True))\n",
    "    \n",
    "    # LSTM with lstm_size units\n",
    "    model.add(LSTM(lstm_size,\n",
    "                   kernel_regularizer=l1(lstm_reg_penalty)))\n",
    "    model.add(Dropout(sigmoid_dropout))\n",
    "    \n",
    "    model.add(Dense(1, \n",
    "                    activation='sigmoid',\n",
    "                    kernel_initializer='TruncatedNormal', \n",
    "                    kernel_regularizer=l1(sigmoid_reg_penalty)))\n",
    "    model.compile(loss='binary_crossentropy', optimizer='adam', metrics=['accuracy'])\n",
    "    print(model.summary())\n",
    "    return model\n"
   ]
  },
  {
   "cell_type": "code",
   "execution_count": 23,
   "metadata": {
    "collapsed": true
   },
   "outputs": [],
   "source": [
    "def selectThreshold (logits, labels, beta=(2.0/3)):\n",
    "    # return threshold, f-score that yields best F-score\n",
    "    # predict using true if >= threshold\n",
    "\n",
    "    precision, recall, thresholds = sklearn.metrics.precision_recall_curve(labels, logits)\n",
    "    bb = beta**2\n",
    "    f1_scores = (1 + bb) * precision * recall / (bb * precision + recall)\n",
    "    f1_scores = np.nan_to_num(f1_scores)\n",
    "    \n",
    "    best_index = np.argmax(f1_scores)\n",
    "    best_threshold = thresholds[best_index]\n",
    "    best_score = f1_scores[best_index]\n",
    "    return (best_threshold, best_score)"
   ]
  },
  {
   "cell_type": "code",
   "execution_count": 30,
   "metadata": {},
   "outputs": [
    {
     "name": "stdout",
     "output_type": "stream",
     "text": [
      "_________________________________________________________________\n",
      "Layer (type)                 Output Shape              Param #   \n",
      "=================================================================\n",
      "embedding_25 (Embedding)     (None, 120, 300)          3000300   \n",
      "_________________________________________________________________\n",
      "lstm_25 (LSTM)               (None, 128)               219648    \n",
      "_________________________________________________________________\n",
      "dropout_25 (Dropout)         (None, 128)               0         \n",
      "_________________________________________________________________\n",
      "dense_26 (Dense)             (None, 1)                 129       \n",
      "=================================================================\n",
      "Total params: 3,220,077.0\n",
      "Trainable params: 3,220,077.0\n",
      "Non-trainable params: 0.0\n",
      "_________________________________________________________________\n",
      "None\n",
      "LSTM units 128\n",
      "LSTM reg_penalty 0.00000000\n",
      "Sigmoid dropout 0.3330\n",
      "Sigmoid reg_penalty 0.00003000\n",
      "Train on 131051 samples, validate on 43684 samples\n",
      "Epoch 1/4\n",
      "131051/131051 [==============================] - 1060s - loss: 0.1584 - acc: 0.9699 - val_loss: 0.1237 - val_acc: 0.9709\n",
      "Epoch 2/4\n",
      "131051/131051 [==============================] - 1054s - loss: 0.0946 - acc: 0.9728 - val_loss: 0.0672 - val_acc: 0.9713\n",
      "Epoch 3/4\n",
      "131051/131051 [==============================] - 1053s - loss: 0.0448 - acc: 0.9840 - val_loss: 0.0532 - val_acc: 0.9825\n",
      "Epoch 4/4\n",
      "  2048/131051 [..............................] - ETA: 928s - loss: 0.0303 - acc: 0.9897"
     ]
    },
    {
     "ename": "KeyboardInterrupt",
     "evalue": "",
     "output_type": "error",
     "traceback": [
      "\u001b[0;31m\u001b[0m",
      "\u001b[0;31mKeyboardInterrupt\u001b[0mTraceback (most recent call last)",
      "\u001b[0;32m<ipython-input-30-3cb401d5aba8>\u001b[0m in \u001b[0;36m<module>\u001b[0;34m()\u001b[0m\n\u001b[1;32m     16\u001b[0m                 \u001b[0;32mprint\u001b[0m \u001b[0;34m(\u001b[0m\u001b[0;34m\"Sigmoid reg_penalty %.8f\"\u001b[0m \u001b[0;34m%\u001b[0m \u001b[0msig_reg_penalty\u001b[0m\u001b[0;34m)\u001b[0m\u001b[0;34m\u001b[0m\u001b[0m\n\u001b[1;32m     17\u001b[0m \u001b[0;34m\u001b[0m\u001b[0m\n\u001b[0;32m---> 18\u001b[0;31m                 \u001b[0mmodel\u001b[0m\u001b[0;34m.\u001b[0m\u001b[0mfit\u001b[0m\u001b[0;34m(\u001b[0m\u001b[0mX_train\u001b[0m\u001b[0;34m,\u001b[0m \u001b[0my_train\u001b[0m\u001b[0;34m,\u001b[0m \u001b[0mvalidation_data\u001b[0m\u001b[0;34m=\u001b[0m\u001b[0;34m(\u001b[0m\u001b[0mX_xval\u001b[0m\u001b[0;34m,\u001b[0m \u001b[0my_xval\u001b[0m\u001b[0;34m)\u001b[0m\u001b[0;34m,\u001b[0m \u001b[0mepochs\u001b[0m\u001b[0;34m=\u001b[0m\u001b[0;36m4\u001b[0m\u001b[0;34m,\u001b[0m \u001b[0mbatch_size\u001b[0m\u001b[0;34m=\u001b[0m\u001b[0;36m1024\u001b[0m\u001b[0;34m)\u001b[0m\u001b[0;34m\u001b[0m\u001b[0m\n\u001b[0m\u001b[1;32m     19\u001b[0m \u001b[0;34m\u001b[0m\u001b[0m\n\u001b[1;32m     20\u001b[0m                 \u001b[0my_train_prob\u001b[0m \u001b[0;34m=\u001b[0m \u001b[0mmodel\u001b[0m\u001b[0;34m.\u001b[0m\u001b[0mpredict\u001b[0m\u001b[0;34m(\u001b[0m\u001b[0mX_train\u001b[0m\u001b[0;34m)\u001b[0m\u001b[0;34m\u001b[0m\u001b[0m\n",
      "\u001b[0;32m/home/ubuntu/anaconda2/envs/tensorflow/lib/python2.7/site-packages/keras/models.pyc\u001b[0m in \u001b[0;36mfit\u001b[0;34m(self, x, y, batch_size, epochs, verbose, callbacks, validation_split, validation_data, shuffle, class_weight, sample_weight, initial_epoch, **kwargs)\u001b[0m\n\u001b[1;32m    843\u001b[0m                               \u001b[0mclass_weight\u001b[0m\u001b[0;34m=\u001b[0m\u001b[0mclass_weight\u001b[0m\u001b[0;34m,\u001b[0m\u001b[0;34m\u001b[0m\u001b[0m\n\u001b[1;32m    844\u001b[0m                               \u001b[0msample_weight\u001b[0m\u001b[0;34m=\u001b[0m\u001b[0msample_weight\u001b[0m\u001b[0;34m,\u001b[0m\u001b[0;34m\u001b[0m\u001b[0m\n\u001b[0;32m--> 845\u001b[0;31m                               initial_epoch=initial_epoch)\n\u001b[0m\u001b[1;32m    846\u001b[0m \u001b[0;34m\u001b[0m\u001b[0m\n\u001b[1;32m    847\u001b[0m     def evaluate(self, x, y, batch_size=32, verbose=1,\n",
      "\u001b[0;32m/home/ubuntu/anaconda2/envs/tensorflow/lib/python2.7/site-packages/keras/engine/training.pyc\u001b[0m in \u001b[0;36mfit\u001b[0;34m(self, x, y, batch_size, epochs, verbose, callbacks, validation_split, validation_data, shuffle, class_weight, sample_weight, initial_epoch, **kwargs)\u001b[0m\n\u001b[1;32m   1483\u001b[0m                               \u001b[0mval_f\u001b[0m\u001b[0;34m=\u001b[0m\u001b[0mval_f\u001b[0m\u001b[0;34m,\u001b[0m \u001b[0mval_ins\u001b[0m\u001b[0;34m=\u001b[0m\u001b[0mval_ins\u001b[0m\u001b[0;34m,\u001b[0m \u001b[0mshuffle\u001b[0m\u001b[0;34m=\u001b[0m\u001b[0mshuffle\u001b[0m\u001b[0;34m,\u001b[0m\u001b[0;34m\u001b[0m\u001b[0m\n\u001b[1;32m   1484\u001b[0m                               \u001b[0mcallback_metrics\u001b[0m\u001b[0;34m=\u001b[0m\u001b[0mcallback_metrics\u001b[0m\u001b[0;34m,\u001b[0m\u001b[0;34m\u001b[0m\u001b[0m\n\u001b[0;32m-> 1485\u001b[0;31m                               initial_epoch=initial_epoch)\n\u001b[0m\u001b[1;32m   1486\u001b[0m \u001b[0;34m\u001b[0m\u001b[0m\n\u001b[1;32m   1487\u001b[0m     \u001b[0;32mdef\u001b[0m \u001b[0mevaluate\u001b[0m\u001b[0;34m(\u001b[0m\u001b[0mself\u001b[0m\u001b[0;34m,\u001b[0m \u001b[0mx\u001b[0m\u001b[0;34m,\u001b[0m \u001b[0my\u001b[0m\u001b[0;34m,\u001b[0m \u001b[0mbatch_size\u001b[0m\u001b[0;34m=\u001b[0m\u001b[0;36m32\u001b[0m\u001b[0;34m,\u001b[0m \u001b[0mverbose\u001b[0m\u001b[0;34m=\u001b[0m\u001b[0;36m1\u001b[0m\u001b[0;34m,\u001b[0m \u001b[0msample_weight\u001b[0m\u001b[0;34m=\u001b[0m\u001b[0mNone\u001b[0m\u001b[0;34m)\u001b[0m\u001b[0;34m:\u001b[0m\u001b[0;34m\u001b[0m\u001b[0m\n",
      "\u001b[0;32m/home/ubuntu/anaconda2/envs/tensorflow/lib/python2.7/site-packages/keras/engine/training.pyc\u001b[0m in \u001b[0;36m_fit_loop\u001b[0;34m(self, f, ins, out_labels, batch_size, epochs, verbose, callbacks, val_f, val_ins, shuffle, callback_metrics, initial_epoch)\u001b[0m\n\u001b[1;32m   1138\u001b[0m                 \u001b[0mbatch_logs\u001b[0m\u001b[0;34m[\u001b[0m\u001b[0;34m'size'\u001b[0m\u001b[0;34m]\u001b[0m \u001b[0;34m=\u001b[0m \u001b[0mlen\u001b[0m\u001b[0;34m(\u001b[0m\u001b[0mbatch_ids\u001b[0m\u001b[0;34m)\u001b[0m\u001b[0;34m\u001b[0m\u001b[0m\n\u001b[1;32m   1139\u001b[0m                 \u001b[0mcallbacks\u001b[0m\u001b[0;34m.\u001b[0m\u001b[0mon_batch_begin\u001b[0m\u001b[0;34m(\u001b[0m\u001b[0mbatch_index\u001b[0m\u001b[0;34m,\u001b[0m \u001b[0mbatch_logs\u001b[0m\u001b[0;34m)\u001b[0m\u001b[0;34m\u001b[0m\u001b[0m\n\u001b[0;32m-> 1140\u001b[0;31m                 \u001b[0mouts\u001b[0m \u001b[0;34m=\u001b[0m \u001b[0mf\u001b[0m\u001b[0;34m(\u001b[0m\u001b[0mins_batch\u001b[0m\u001b[0;34m)\u001b[0m\u001b[0;34m\u001b[0m\u001b[0m\n\u001b[0m\u001b[1;32m   1141\u001b[0m                 \u001b[0;32mif\u001b[0m \u001b[0;32mnot\u001b[0m \u001b[0misinstance\u001b[0m\u001b[0;34m(\u001b[0m\u001b[0mouts\u001b[0m\u001b[0;34m,\u001b[0m \u001b[0mlist\u001b[0m\u001b[0;34m)\u001b[0m\u001b[0;34m:\u001b[0m\u001b[0;34m\u001b[0m\u001b[0m\n\u001b[1;32m   1142\u001b[0m                     \u001b[0mouts\u001b[0m \u001b[0;34m=\u001b[0m \u001b[0;34m[\u001b[0m\u001b[0mouts\u001b[0m\u001b[0;34m]\u001b[0m\u001b[0;34m\u001b[0m\u001b[0m\n",
      "\u001b[0;32m/home/ubuntu/anaconda2/envs/tensorflow/lib/python2.7/site-packages/keras/backend/tensorflow_backend.pyc\u001b[0m in \u001b[0;36m__call__\u001b[0;34m(self, inputs)\u001b[0m\n\u001b[1;32m   2071\u001b[0m         \u001b[0msession\u001b[0m \u001b[0;34m=\u001b[0m \u001b[0mget_session\u001b[0m\u001b[0;34m(\u001b[0m\u001b[0;34m)\u001b[0m\u001b[0;34m\u001b[0m\u001b[0m\n\u001b[1;32m   2072\u001b[0m         updated = session.run(self.outputs + [self.updates_op],\n\u001b[0;32m-> 2073\u001b[0;31m                               feed_dict=feed_dict)\n\u001b[0m\u001b[1;32m   2074\u001b[0m         \u001b[0;32mreturn\u001b[0m \u001b[0mupdated\u001b[0m\u001b[0;34m[\u001b[0m\u001b[0;34m:\u001b[0m\u001b[0mlen\u001b[0m\u001b[0;34m(\u001b[0m\u001b[0mself\u001b[0m\u001b[0;34m.\u001b[0m\u001b[0moutputs\u001b[0m\u001b[0;34m)\u001b[0m\u001b[0;34m]\u001b[0m\u001b[0;34m\u001b[0m\u001b[0m\n\u001b[1;32m   2075\u001b[0m \u001b[0;34m\u001b[0m\u001b[0m\n",
      "\u001b[0;32m/home/ubuntu/anaconda2/envs/tensorflow/lib/python2.7/site-packages/tensorflow/python/client/session.pyc\u001b[0m in \u001b[0;36mrun\u001b[0;34m(self, fetches, feed_dict, options, run_metadata)\u001b[0m\n\u001b[1;32m    776\u001b[0m     \u001b[0;32mtry\u001b[0m\u001b[0;34m:\u001b[0m\u001b[0;34m\u001b[0m\u001b[0m\n\u001b[1;32m    777\u001b[0m       result = self._run(None, fetches, feed_dict, options_ptr,\n\u001b[0;32m--> 778\u001b[0;31m                          run_metadata_ptr)\n\u001b[0m\u001b[1;32m    779\u001b[0m       \u001b[0;32mif\u001b[0m \u001b[0mrun_metadata\u001b[0m\u001b[0;34m:\u001b[0m\u001b[0;34m\u001b[0m\u001b[0m\n\u001b[1;32m    780\u001b[0m         \u001b[0mproto_data\u001b[0m \u001b[0;34m=\u001b[0m \u001b[0mtf_session\u001b[0m\u001b[0;34m.\u001b[0m\u001b[0mTF_GetBuffer\u001b[0m\u001b[0;34m(\u001b[0m\u001b[0mrun_metadata_ptr\u001b[0m\u001b[0;34m)\u001b[0m\u001b[0;34m\u001b[0m\u001b[0m\n",
      "\u001b[0;32m/home/ubuntu/anaconda2/envs/tensorflow/lib/python2.7/site-packages/tensorflow/python/client/session.pyc\u001b[0m in \u001b[0;36m_run\u001b[0;34m(self, handle, fetches, feed_dict, options, run_metadata)\u001b[0m\n\u001b[1;32m    980\u001b[0m     \u001b[0;32mif\u001b[0m \u001b[0mfinal_fetches\u001b[0m \u001b[0;32mor\u001b[0m \u001b[0mfinal_targets\u001b[0m\u001b[0;34m:\u001b[0m\u001b[0;34m\u001b[0m\u001b[0m\n\u001b[1;32m    981\u001b[0m       results = self._do_run(handle, final_targets, final_fetches,\n\u001b[0;32m--> 982\u001b[0;31m                              feed_dict_string, options, run_metadata)\n\u001b[0m\u001b[1;32m    983\u001b[0m     \u001b[0;32melse\u001b[0m\u001b[0;34m:\u001b[0m\u001b[0;34m\u001b[0m\u001b[0m\n\u001b[1;32m    984\u001b[0m       \u001b[0mresults\u001b[0m \u001b[0;34m=\u001b[0m \u001b[0;34m[\u001b[0m\u001b[0;34m]\u001b[0m\u001b[0;34m\u001b[0m\u001b[0m\n",
      "\u001b[0;32m/home/ubuntu/anaconda2/envs/tensorflow/lib/python2.7/site-packages/tensorflow/python/client/session.pyc\u001b[0m in \u001b[0;36m_do_run\u001b[0;34m(self, handle, target_list, fetch_list, feed_dict, options, run_metadata)\u001b[0m\n\u001b[1;32m   1030\u001b[0m     \u001b[0;32mif\u001b[0m \u001b[0mhandle\u001b[0m \u001b[0;32mis\u001b[0m \u001b[0mNone\u001b[0m\u001b[0;34m:\u001b[0m\u001b[0;34m\u001b[0m\u001b[0m\n\u001b[1;32m   1031\u001b[0m       return self._do_call(_run_fn, self._session, feed_dict, fetch_list,\n\u001b[0;32m-> 1032\u001b[0;31m                            target_list, options, run_metadata)\n\u001b[0m\u001b[1;32m   1033\u001b[0m     \u001b[0;32melse\u001b[0m\u001b[0;34m:\u001b[0m\u001b[0;34m\u001b[0m\u001b[0m\n\u001b[1;32m   1034\u001b[0m       return self._do_call(_prun_fn, self._session, handle, feed_dict,\n",
      "\u001b[0;32m/home/ubuntu/anaconda2/envs/tensorflow/lib/python2.7/site-packages/tensorflow/python/client/session.pyc\u001b[0m in \u001b[0;36m_do_call\u001b[0;34m(self, fn, *args)\u001b[0m\n\u001b[1;32m   1037\u001b[0m   \u001b[0;32mdef\u001b[0m \u001b[0m_do_call\u001b[0m\u001b[0;34m(\u001b[0m\u001b[0mself\u001b[0m\u001b[0;34m,\u001b[0m \u001b[0mfn\u001b[0m\u001b[0;34m,\u001b[0m \u001b[0;34m*\u001b[0m\u001b[0margs\u001b[0m\u001b[0;34m)\u001b[0m\u001b[0;34m:\u001b[0m\u001b[0;34m\u001b[0m\u001b[0m\n\u001b[1;32m   1038\u001b[0m     \u001b[0;32mtry\u001b[0m\u001b[0;34m:\u001b[0m\u001b[0;34m\u001b[0m\u001b[0m\n\u001b[0;32m-> 1039\u001b[0;31m       \u001b[0;32mreturn\u001b[0m \u001b[0mfn\u001b[0m\u001b[0;34m(\u001b[0m\u001b[0;34m*\u001b[0m\u001b[0margs\u001b[0m\u001b[0;34m)\u001b[0m\u001b[0;34m\u001b[0m\u001b[0m\n\u001b[0m\u001b[1;32m   1040\u001b[0m     \u001b[0;32mexcept\u001b[0m \u001b[0merrors\u001b[0m\u001b[0;34m.\u001b[0m\u001b[0mOpError\u001b[0m \u001b[0;32mas\u001b[0m \u001b[0me\u001b[0m\u001b[0;34m:\u001b[0m\u001b[0;34m\u001b[0m\u001b[0m\n\u001b[1;32m   1041\u001b[0m       \u001b[0mmessage\u001b[0m \u001b[0;34m=\u001b[0m \u001b[0mcompat\u001b[0m\u001b[0;34m.\u001b[0m\u001b[0mas_text\u001b[0m\u001b[0;34m(\u001b[0m\u001b[0me\u001b[0m\u001b[0;34m.\u001b[0m\u001b[0mmessage\u001b[0m\u001b[0;34m)\u001b[0m\u001b[0;34m\u001b[0m\u001b[0m\n",
      "\u001b[0;32m/home/ubuntu/anaconda2/envs/tensorflow/lib/python2.7/site-packages/tensorflow/python/client/session.pyc\u001b[0m in \u001b[0;36m_run_fn\u001b[0;34m(session, feed_dict, fetch_list, target_list, options, run_metadata)\u001b[0m\n\u001b[1;32m   1019\u001b[0m         return tf_session.TF_Run(session, options,\n\u001b[1;32m   1020\u001b[0m                                  \u001b[0mfeed_dict\u001b[0m\u001b[0;34m,\u001b[0m \u001b[0mfetch_list\u001b[0m\u001b[0;34m,\u001b[0m \u001b[0mtarget_list\u001b[0m\u001b[0;34m,\u001b[0m\u001b[0;34m\u001b[0m\u001b[0m\n\u001b[0;32m-> 1021\u001b[0;31m                                  status, run_metadata)\n\u001b[0m\u001b[1;32m   1022\u001b[0m \u001b[0;34m\u001b[0m\u001b[0m\n\u001b[1;32m   1023\u001b[0m     \u001b[0;32mdef\u001b[0m \u001b[0m_prun_fn\u001b[0m\u001b[0;34m(\u001b[0m\u001b[0msession\u001b[0m\u001b[0;34m,\u001b[0m \u001b[0mhandle\u001b[0m\u001b[0;34m,\u001b[0m \u001b[0mfeed_dict\u001b[0m\u001b[0;34m,\u001b[0m \u001b[0mfetch_list\u001b[0m\u001b[0;34m)\u001b[0m\u001b[0;34m:\u001b[0m\u001b[0;34m\u001b[0m\u001b[0m\n",
      "\u001b[0;31mKeyboardInterrupt\u001b[0m: "
     ]
    }
   ],
   "source": [
    "# create the model\n",
    "embedding_vector_length = EMBEDDING_DIM\n",
    "\n",
    "for sig_reg_penalty in [0.00003]:\n",
    "    for dropout in [0.333]:\n",
    "        for lstm_units in [128]:\n",
    "            for lstm_reg_penalty in [0.00000,]:\n",
    "                #0.000001, 0.000003, 0.00001, 0.00003]:\n",
    "                model = create_model(lstm_size=lstm_units, \n",
    "                                     lstm_reg_penalty=lstm_reg_penalty, \n",
    "                                     sigmoid_dropout=dropout, \n",
    "                                     sigmoid_reg_penalty=sig_reg_penalty)\n",
    "                print (\"LSTM units %d\" % lstm_units)\n",
    "                print (\"LSTM reg_penalty %.8f\" % lstm_reg_penalty)\n",
    "                print (\"Sigmoid dropout %.4f\" %  dropout)\n",
    "                print (\"Sigmoid reg_penalty %.8f\" % sig_reg_penalty)\n",
    "                \n",
    "                model.fit(X_train, y_train, validation_data=(X_xval, y_xval), epochs=3, batch_size=1024)\n",
    "                \n",
    "                y_train_prob = model.predict(X_train)\n",
    "                \n",
    "                beta=(2.0/3.0) # penalize false positives more than false negatives\n",
    "                thresh, score = selectThreshold(y_train_prob, y_train, beta=beta)\n",
    "                y_train_pred = y_train_prob >= thresh\n",
    "                \n",
    "                print(\"Train Accuracy %.3f, Train F1 %.3f, f_score %.3f (beta %.3f)\" % \n",
    "                      (sklearn.metrics.accuracy_score(y_train_pred, y_train), \n",
    "                       sklearn.metrics.f1_score(y_train_pred, y_train),\n",
    "                       score, beta))\n",
    "                \n",
    "                print(sklearn.metrics.confusion_matrix(y_train_pred, y_train))\n",
    "\n",
    "                y_xval_prob = model.predict(X_xval)\n",
    "                \n",
    "                thresh, score = selectThreshold(y_xval_prob, y_xval, beta=beta)\n",
    "                y_xval_pred = y_xval_prob >= thresh\n",
    "                \n",
    "                print (\"LSTM units %d\" % lstm_units)\n",
    "                print (\"LSTM reg_penalty %.8f\" % lstm_reg_penalty)\n",
    "                print (\"Sigmoid dropout %.4f\" %  dropout)\n",
    "                print (\"Sigmoid reg_penalty %.8f\" % sig_reg_penalty)                \n",
    "\n",
    "                print(\"Xval Accuracy %.3f, Xval F1 %.3f, f_score %.3f (beta %.3f)\" % \n",
    "                      (sklearn.metrics.accuracy_score(y_xval_pred, y_xval), \n",
    "                       sklearn.metrics.f1_score(y_xval_pred, y_xval),\n",
    "                       score, beta))\n",
    "                \n",
    "                confusion_matrix = sklearn.metrics.confusion_matrix(y_xval_pred, y_xval)\n",
    "                print(confusion_matrix)\n",
    "                false_positive = confusion_matrix[1][0]\n",
    "                false_negative = confusion_matrix[0][1]\n",
    "                raw_score = 1.0 * (true_positive - false_positive) / np.sum(confusion_matrix)\n",
    "                    \n",
    "                print (\"Raw score 2 %f\" % raw_score)\n",
    "                \n",
    "                # freeze embeddings layer and train some more\n",
    "                elayer = model.layers[0]\n",
    "                \n",
    "                print(elayer.trainable)\n",
    "                elayer.trainable = False\n",
    "                print(elayer.trainable)\n",
    "                model.compile(loss='binary_crossentropy', optimizer='adam', metrics=['accuracy'])\n",
    "                print(model.summary())\n",
    "                \n",
    "                model.fit(X_train, y_train, validation_data=(X_xval, y_xval), epochs=1, batch_size=1024)\n",
    "                \n",
    "                y_train_prob = model.predict(X_train)\n",
    "                \n",
    "                beta=(2.0/3.0) # penalize false positives more than false negatives\n",
    "                thresh, score = selectThreshold(y_train_prob, y_train, beta=beta)\n",
    "                y_train_pred = y_train_prob >= thresh\n",
    "                \n",
    "                print(\"Train Accuracy %.3f, Train F1 %.3f, f_score %.3f (beta %.3f)\" % \n",
    "                      (sklearn.metrics.accuracy_score(y_train_pred, y_train), \n",
    "                       sklearn.metrics.f1_score(y_train_pred, y_train),\n",
    "                       score, beta))\n",
    "                \n",
    "                print(sklearn.metrics.confusion_matrix(y_train_pred, y_train))\n",
    "\n",
    "                y_xval_prob = model.predict(X_xval)\n",
    "                \n",
    "                thresh, score = selectThreshold(y_xval_prob, y_xval, beta=beta)\n",
    "                y_xval_pred = y_xval_prob >= thresh\n",
    "                \n",
    "                print (\"LSTM units %d\" % lstm_units)\n",
    "                print (\"LSTM reg_penalty %.8f\" % lstm_reg_penalty)\n",
    "                print (\"Sigmoid dropout %.4f\" %  dropout)\n",
    "                print (\"Sigmoid reg_penalty %.8f\" % sig_reg_penalty)                \n",
    "\n",
    "                print(\"Xval Accuracy %.3f, Xval F1 %.3f, f_score %.3f (beta %.3f)\" % \n",
    "                      (sklearn.metrics.accuracy_score(y_xval_pred, y_xval), \n",
    "                       sklearn.metrics.f1_score(y_xval_pred, y_xval),\n",
    "                       score, beta))\n",
    "                \n",
    "                confusion_matrix = sklearn.metrics.confusion_matrix(y_xval_pred, y_xval)\n",
    "                print(confusion_matrix)\n",
    "                false_positive = confusion_matrix[1][0]\n",
    "                true_positive =  confusion_matrix[1][1]\n",
    "                true_negative =  confusion_matrix[0][0]\n",
    "                false_negative = confusion_matrix[0][1]\n",
    "                raw_score = 1.0 * (true_positive - false_positive) / np.sum(confusion_matrix)\n",
    "                    \n",
    "                print (\"Raw score 2 %f\" % raw_score)\n",
    "\n",
    "\n",
    "                \n"
   ]
  },
  {
   "cell_type": "code",
   "execution_count": 21,
   "metadata": {},
   "outputs": [
    {
     "name": "stdout",
     "output_type": "stream",
     "text": [
      "True\n",
      "False\n",
      "_________________________________________________________________\n",
      "Layer (type)                 Output Shape              Param #   \n",
      "=================================================================\n",
      "embedding_2 (Embedding)      (None, 120, 300)          3000300   \n",
      "_________________________________________________________________\n",
      "lstm_2 (LSTM)                (None, 16)                20288     \n",
      "_________________________________________________________________\n",
      "dropout_2 (Dropout)          (None, 16)                0         \n",
      "_________________________________________________________________\n",
      "dense_2 (Dense)              (None, 1)                 17        \n",
      "=================================================================\n",
      "Total params: 3,020,605.0\n",
      "Trainable params: 20,305.0\n",
      "Non-trainable params: 3,000,300.0\n",
      "_________________________________________________________________\n",
      "None\n",
      "Train on 131051 samples, validate on 43684 samples\n",
      "Epoch 1/10\n",
      "131051/131051 [==============================] - 177s - loss: 0.0308 - acc: 0.9921 - val_loss: 0.0568 - val_acc: 0.9834\n",
      "Epoch 2/10\n",
      "131051/131051 [==============================] - 176s - loss: 0.0289 - acc: 0.9927 - val_loss: 0.0664 - val_acc: 0.9832\n",
      "Epoch 3/10\n",
      "131051/131051 [==============================] - 176s - loss: 0.0274 - acc: 0.9931 - val_loss: 0.0621 - val_acc: 0.9814\n",
      "Epoch 4/10\n",
      "131051/131051 [==============================] - 176s - loss: 0.0265 - acc: 0.9933 - val_loss: 0.0658 - val_acc: 0.9834\n",
      "Epoch 5/10\n",
      "131051/131051 [==============================] - 176s - loss: 0.0255 - acc: 0.9936 - val_loss: 0.0673 - val_acc: 0.9825\n",
      "Epoch 6/10\n",
      "131051/131051 [==============================] - 176s - loss: 0.0253 - acc: 0.9937 - val_loss: 0.0666 - val_acc: 0.9825\n",
      "Epoch 7/10\n",
      "131051/131051 [==============================] - 176s - loss: 0.0241 - acc: 0.9938 - val_loss: 0.0685 - val_acc: 0.9826\n",
      "Epoch 8/10\n",
      "131051/131051 [==============================] - 176s - loss: 0.0238 - acc: 0.9939 - val_loss: 0.0671 - val_acc: 0.9826\n",
      "Epoch 9/10\n",
      "131051/131051 [==============================] - 176s - loss: 0.0227 - acc: 0.9944 - val_loss: 0.0686 - val_acc: 0.9822\n",
      "Epoch 10/10\n",
      "131051/131051 [==============================] - 176s - loss: 0.0224 - acc: 0.9942 - val_loss: 0.0750 - val_acc: 0.9832\n"
     ]
    },
    {
     "data": {
      "text/plain": [
       "<keras.callbacks.History at 0x7f21e04bad50>"
      ]
     },
     "execution_count": 21,
     "metadata": {},
     "output_type": "execute_result"
    }
   ],
   "source": [
    "# freeze embeddings layer and train some more\n",
    "elayer = model.layers[0]\n",
    "\n",
    "print(elayer.trainable)\n",
    "elayer.trainable = False\n",
    "print(elayer.trainable)\n",
    "model.compile(loss='binary_crossentropy', optimizer='adam', metrics=['accuracy'])\n",
    "print(model.summary())\n",
    "\n",
    "model.fit(X_train, y_train, validation_data=(X_xval, y_xval), epochs=10, batch_size=128)\n"
   ]
  },
  {
   "cell_type": "code",
   "execution_count": 22,
   "metadata": {},
   "outputs": [
    {
     "name": "stdout",
     "output_type": "stream",
     "text": [
      "Train Accuracy 0.995, Train F1 0.904, f_score 0.922 (beta 0.667)\n",
      "[[127305    500]\n",
      " [   155   3091]]\n"
     ]
    }
   ],
   "source": [
    "y_train_prob = model.predict(X_train)\n",
    "beta=(2.0/3.0) # penalize false positives more than false negatives\n",
    "\n",
    "thresh, score = selectThreshold(y_train_prob, y_train, beta=beta)\n",
    "y_train_pred = y_train_prob >= thresh\n",
    "print(\"Train Accuracy %.3f, Train F1 %.3f, f_score %.3f (beta %.3f)\" % \n",
    "                      (sklearn.metrics.accuracy_score(y_train_pred, y_train), \n",
    "                       sklearn.metrics.f1_score(y_train_pred, y_train),\n",
    "                       score, beta))\n",
    "                \n",
    "print(sklearn.metrics.confusion_matrix(y_train_pred, y_train))\n",
    " "
   ]
  },
  {
   "cell_type": "code",
   "execution_count": 23,
   "metadata": {},
   "outputs": [
    {
     "name": "stdout",
     "output_type": "stream",
     "text": [
      "Xval Accuracy 0.983, Xval F1 0.695, f_score 0.714 (beta 0.667)\n",
      "[[42131   446]\n",
      " [  280   827]]\n"
     ]
    }
   ],
   "source": [
    "y_xval_prob = model.predict(X_xval)\n",
    "\n",
    "thresh, score = selectThreshold(y_xval_prob, y_xval, beta=beta)\n",
    "y_xval_pred = y_xval_prob >= thresh\n",
    "\n",
    "print(\"Xval Accuracy %.3f, Xval F1 %.3f, f_score %.3f (beta %.3f)\" % \n",
    "      (sklearn.metrics.accuracy_score(y_xval_pred, y_xval), \n",
    "       sklearn.metrics.f1_score(y_xval_pred, y_xval),\n",
    "       score, beta))\n",
    "\n",
    "print(sklearn.metrics.confusion_matrix(y_xval_pred, y_xval))\n",
    "\n",
    "       "
   ]
  },
  {
   "cell_type": "code",
   "execution_count": null,
   "metadata": {
    "collapsed": true
   },
   "outputs": [],
   "source": [
    "y_test_prob = model.predict(X_test)\n",
    "beta=(2.0/3.0) # penalize false positives more than false negatives\n",
    "\n",
    "y_test_pred = y_test_prob >= thresh\n",
    "print(\"Test Accuracy %.3f, Test F1 %.3f, f_score %.3f (beta %.3f)\" % \n",
    "                      (sklearn.metrics.accuracy_score(y_test_pred, y_test), \n",
    "                       sklearn.metrics.f1_score(y_test_pred, y_test),\n",
    "                       score, beta))\n",
    "                \n",
    "print(sklearn.metrics.confusion_matrix(y_test_pred, y_test))\n"
   ]
  },
  {
   "cell_type": "code",
   "execution_count": 21,
   "metadata": {},
   "outputs": [
    {
     "data": {
      "text/plain": [
       "(10001, 300)"
      ]
     },
     "execution_count": 21,
     "metadata": {},
     "output_type": "execute_result"
    }
   ],
   "source": [
    "elayer = model.layers[0]\n",
    "em = sess.run(elayer.embeddings)\n",
    "em.shape\n"
   ]
  },
  {
   "cell_type": "code",
   "execution_count": 22,
   "metadata": {},
   "outputs": [
    {
     "data": {
      "text/plain": [
       "10000"
      ]
     },
     "execution_count": 22,
     "metadata": {},
     "output_type": "execute_result"
    }
   ],
   "source": [
    "len(dictionary)"
   ]
  },
  {
   "cell_type": "code",
   "execution_count": 26,
   "metadata": {
    "collapsed": true
   },
   "outputs": [],
   "source": [
    "pickle_list = [dictionary, reverse_dictionary, em]\n",
    "\n",
    "output = open('lstm_embeddings.pkl', 'wb')\n",
    "pickle.dump(pickle_list, output)\n",
    "output.close()"
   ]
  },
  {
   "cell_type": "code",
   "execution_count": 27,
   "metadata": {},
   "outputs": [
    {
     "name": "stdout",
     "output_type": "stream",
     "text": [
      "_________________________________________________________________\n",
      "Layer (type)                 Output Shape              Param #   \n",
      "=================================================================\n",
      "embedding_2 (Embedding)      (None, 120, 300)          3000300   \n",
      "_________________________________________________________________\n",
      "lstm_2 (LSTM)                (None, 16)                20288     \n",
      "_________________________________________________________________\n",
      "dropout_2 (Dropout)          (None, 16)                0         \n",
      "_________________________________________________________________\n",
      "dense_2 (Dense)              (None, 1)                 17        \n",
      "=================================================================\n",
      "Total params: 3,020,605.0\n",
      "Trainable params: 3,020,605.0\n",
      "Non-trainable params: 0.0\n",
      "_________________________________________________________________\n",
      "None\n"
     ]
    }
   ],
   "source": [
    "m2 = create_model(lstm_size=lstm_units, \n",
    "                                     lstm_reg_penalty=lstm_reg_penalty, \n",
    "                                     sigmoid_dropout=dropout, \n",
    "                                     sigmoid_reg_penalty=sig_reg_penalty)"
   ]
  },
  {
   "cell_type": "code",
   "execution_count": 28,
   "metadata": {},
   "outputs": [
    {
     "data": {
      "text/plain": [
       "(10001, 300)"
      ]
     },
     "execution_count": 28,
     "metadata": {},
     "output_type": "execute_result"
    }
   ],
   "source": [
    "elayer = m2.layers[0]\n",
    "em = sess.run(elayer.embeddings)\n",
    "em.shape"
   ]
  },
  {
   "cell_type": "code",
   "execution_count": 35,
   "metadata": {},
   "outputs": [
    {
     "data": {
      "text/plain": [
       "array([ 0.,  0.,  0.,  0.,  0.,  0.,  0.,  0.,  0.,  0.,  0.,  0.,  0.,\n",
       "        0.,  0.,  0.,  0.,  0.,  0.,  0.,  0.,  0.,  0.,  0.,  0.,  0.,\n",
       "        0.,  0.,  0.,  0.,  0.,  0.,  0.,  0.,  0.,  0.,  0.,  0.,  0.,\n",
       "        0.,  0.,  0.,  0.,  0.,  0.,  0.,  0.,  0.,  0.,  0.,  0.,  0.,\n",
       "        0.,  0.,  0.,  0.,  0.,  0.,  0.,  0.,  0.,  0.,  0.,  0.,  0.,\n",
       "        0.,  0.,  0.,  0.,  0.,  0.,  0.,  0.,  0.,  0.,  0.,  0.,  0.,\n",
       "        0.,  0.,  0.,  0.,  0.,  0.,  0.,  0.,  0.,  0.,  0.,  0.,  0.,\n",
       "        0.,  0.,  0.,  0.,  0.,  0.,  0.,  0.,  0.,  0.,  0.,  0.,  0.,\n",
       "        0.,  0.,  0.,  0.,  0.,  0.,  0.,  0.,  0.,  0.,  0.,  0.,  0.,\n",
       "        0.,  0.,  0.,  0.,  0.,  0.,  0.,  0.,  0.,  0.,  0.,  0.,  0.,\n",
       "        0.,  0.,  0.,  0.,  0.,  0.,  0.,  0.,  0.,  0.,  0.,  0.,  0.,\n",
       "        0.,  0.,  0.,  0.,  0.,  0.,  0.,  0.,  0.,  0.,  0.,  0.,  0.,\n",
       "        0.,  0.,  0.,  0.,  0.,  0.,  0.,  0.,  0.,  0.,  0.,  0.,  0.,\n",
       "        0.,  0.,  0.,  0.,  0.,  0.,  0.,  0.,  0.,  0.,  0.,  0.,  0.,\n",
       "        0.,  0.,  0.,  0.,  0.,  0.,  0.,  0.,  0.,  0.,  0.,  0.,  0.,\n",
       "        0.,  0.,  0.,  0.,  0.,  0.,  0.,  0.,  0.,  0.,  0.,  0.,  0.,\n",
       "        0.,  0.,  0.,  0.,  0.,  0.,  0.,  0.,  0.,  0.,  0.,  0.,  0.,\n",
       "        0.,  0.,  0.,  0.,  0.,  0.,  0.,  0.,  0.,  0.,  0.,  0.,  0.,\n",
       "        0.,  0.,  0.,  0.,  0.,  0.,  0.,  0.,  0.,  0.,  0.,  0.,  0.,\n",
       "        0.,  0.,  0.,  0.,  0.,  0.,  0.,  0.,  0.,  0.,  0.,  0.,  0.,\n",
       "        0.,  0.,  0.,  0.,  0.,  0.,  0.,  0.,  0.,  0.,  0.,  0.,  0.,\n",
       "        0.,  0.,  0.,  0.,  0.,  0.,  0.,  0.,  0.,  0.,  0.,  0.,  0.,\n",
       "        0.,  0.,  0.,  0.,  0.,  0.,  0.,  0.,  0.,  0.,  0.,  0.,  0.,  0.], dtype=float32)"
      ]
     },
     "execution_count": 35,
     "metadata": {},
     "output_type": "execute_result"
    }
   ],
   "source": [
    "em[10000]"
   ]
  },
  {
   "cell_type": "code",
   "execution_count": 36,
   "metadata": {},
   "outputs": [
    {
     "data": {
      "text/plain": [
       "array([ 0.,  0.,  0.,  0.,  0.,  0.,  0.,  0.,  0.,  0.,  0.,  0.,  0.,\n",
       "        0.,  0.,  0.,  0.,  0.,  0.,  0.,  0.,  0.,  0.,  0.,  0.,  0.,\n",
       "        0.,  0.,  0.,  0.,  0.,  0.,  0.,  0.,  0.,  0.,  0.,  0.,  0.,\n",
       "        0.,  0.,  0.,  0.,  0.,  0.,  0.,  0.,  0.,  0.,  0.,  0.,  0.,\n",
       "        0.,  0.,  0.,  0.,  0.,  0.,  0.,  0.,  0.,  0.,  0.,  0.,  0.,\n",
       "        0.,  0.,  0.,  0.,  0.,  0.,  0.,  0.,  0.,  0.,  0.,  0.,  0.,\n",
       "        0.,  0.,  0.,  0.,  0.,  0.,  0.,  0.,  0.,  0.,  0.,  0.,  0.,\n",
       "        0.,  0.,  0.,  0.,  0.,  0.,  0.,  0.,  0.,  0.,  0.,  0.,  0.,\n",
       "        0.,  0.,  0.,  0.,  0.,  0.,  0.,  0.,  0.,  0.,  0.,  0.,  0.,\n",
       "        0.,  0.,  0.,  0.,  0.,  0.,  0.,  0.,  0.,  0.,  0.,  0.,  0.,\n",
       "        0.,  0.,  0.,  0.,  0.,  0.,  0.,  0.,  0.,  0.,  0.,  0.,  0.,\n",
       "        0.,  0.,  0.,  0.,  0.,  0.,  0.,  0.,  0.,  0.,  0.,  0.,  0.,\n",
       "        0.,  0.,  0.,  0.,  0.,  0.,  0.,  0.,  0.,  0.,  0.,  0.,  0.,\n",
       "        0.,  0.,  0.,  0.,  0.,  0.,  0.,  0.,  0.,  0.,  0.,  0.,  0.,\n",
       "        0.,  0.,  0.,  0.,  0.,  0.,  0.,  0.,  0.,  0.,  0.,  0.,  0.,\n",
       "        0.,  0.,  0.,  0.,  0.,  0.,  0.,  0.,  0.,  0.,  0.,  0.,  0.,\n",
       "        0.,  0.,  0.,  0.,  0.,  0.,  0.,  0.,  0.,  0.,  0.,  0.,  0.,\n",
       "        0.,  0.,  0.,  0.,  0.,  0.,  0.,  0.,  0.,  0.,  0.,  0.,  0.,\n",
       "        0.,  0.,  0.,  0.,  0.,  0.,  0.,  0.,  0.,  0.,  0.,  0.,  0.,\n",
       "        0.,  0.,  0.,  0.,  0.,  0.,  0.,  0.,  0.,  0.,  0.,  0.,  0.,\n",
       "        0.,  0.,  0.,  0.,  0.,  0.,  0.,  0.,  0.,  0.,  0.,  0.,  0.,\n",
       "        0.,  0.,  0.,  0.,  0.,  0.,  0.,  0.,  0.,  0.,  0.,  0.,  0.,\n",
       "        0.,  0.,  0.,  0.,  0.,  0.,  0.,  0.,  0.,  0.,  0.,  0.,  0.,  0.])"
      ]
     },
     "execution_count": 36,
     "metadata": {},
     "output_type": "execute_result"
    }
   ],
   "source": [
    "embedding_matrix[10000]"
   ]
  },
  {
   "cell_type": "code",
   "execution_count": 37,
   "metadata": {},
   "outputs": [
    {
     "data": {
      "text/plain": [
       "10001"
      ]
     },
     "execution_count": 37,
     "metadata": {},
     "output_type": "execute_result"
    }
   ],
   "source": [
    "len(embedding_matrix)"
   ]
  },
  {
   "cell_type": "code",
   "execution_count": 31,
   "metadata": {},
   "outputs": [
    {
     "name": "stdout",
     "output_type": "stream",
     "text": [
      "Train Accuracy 0.991, Train F1 0.833, f_score 0.846 (beta 0.667)\n",
      "[[127030    723]\n",
      " [   430   2868]]\n",
      "LSTM units 128\n",
      "LSTM reg_penalty 0.00000000\n",
      "Sigmoid dropout 0.3330\n",
      "Sigmoid reg_penalty 0.00003000\n",
      "Xval Accuracy 0.983, Xval F1 0.667, f_score 0.703 (beta 0.667)\n",
      "[[42187   524]\n",
      " [  224   749]]\n",
      "Raw score 2 0.011469\n",
      "True\n",
      "False\n",
      "_________________________________________________________________\n",
      "Layer (type)                 Output Shape              Param #   \n",
      "=================================================================\n",
      "embedding_25 (Embedding)     (None, 120, 300)          3000300   \n",
      "_________________________________________________________________\n",
      "lstm_25 (LSTM)               (None, 128)               219648    \n",
      "_________________________________________________________________\n",
      "dropout_25 (Dropout)         (None, 128)               0         \n",
      "_________________________________________________________________\n",
      "dense_26 (Dense)             (None, 1)                 129       \n",
      "=================================================================\n",
      "Total params: 3,220,077.0\n",
      "Trainable params: 219,777.0\n",
      "Non-trainable params: 3,000,300.0\n",
      "_________________________________________________________________\n",
      "None\n",
      "Train on 131051 samples, validate on 43684 samples\n",
      "Epoch 1/5\n",
      "131051/131051 [==============================] - 927s - loss: 0.0289 - acc: 0.9913 - val_loss: 0.0596 - val_acc: 0.9807\n",
      "Epoch 2/5\n",
      "131051/131051 [==============================] - 922s - loss: 0.0278 - acc: 0.9917 - val_loss: 0.0693 - val_acc: 0.9817\n",
      "Epoch 3/5\n",
      "131051/131051 [==============================] - 923s - loss: 0.0266 - acc: 0.9921 - val_loss: 0.0670 - val_acc: 0.9822\n",
      "Epoch 4/5\n",
      "131051/131051 [==============================] - 923s - loss: 0.0262 - acc: 0.9922 - val_loss: 0.0680 - val_acc: 0.9818\n",
      "Epoch 5/5\n",
      "131051/131051 [==============================] - 921s - loss: 0.0257 - acc: 0.9924 - val_loss: 0.0710 - val_acc: 0.9810\n",
      "Train Accuracy 0.993, Train F1 0.871, f_score 0.882 (beta 0.667)\n",
      "[[127122    560]\n",
      " [   338   3031]]\n",
      "LSTM units 128\n",
      "LSTM reg_penalty 0.00000000\n",
      "Sigmoid dropout 0.3330\n",
      "Sigmoid reg_penalty 0.00003000\n",
      "Xval Accuracy 0.981, Xval F1 0.650, f_score 0.675 (beta 0.667)\n",
      "[[42117   519]\n",
      " [  294   754]]\n",
      "Raw score 2 0.010530\n"
     ]
    }
   ],
   "source": [
    "                y_train_prob = model.predict(X_train)\n",
    "                \n",
    "                beta=(2.0/3.0) # penalize false positives more than false negatives\n",
    "                thresh, score = selectThreshold(y_train_prob, y_train, beta=beta)\n",
    "                y_train_pred = y_train_prob >= thresh\n",
    "                \n",
    "                print(\"Train Accuracy %.3f, Train F1 %.3f, f_score %.3f (beta %.3f)\" % \n",
    "                      (sklearn.metrics.accuracy_score(y_train_pred, y_train), \n",
    "                       sklearn.metrics.f1_score(y_train_pred, y_train),\n",
    "                       score, beta))\n",
    "                \n",
    "                print(sklearn.metrics.confusion_matrix(y_train_pred, y_train))\n",
    "\n",
    "                y_xval_prob = model.predict(X_xval)\n",
    "                \n",
    "                thresh, score = selectThreshold(y_xval_prob, y_xval, beta=beta)\n",
    "                y_xval_pred = y_xval_prob >= thresh\n",
    "                \n",
    "                print (\"LSTM units %d\" % lstm_units)\n",
    "                print (\"LSTM reg_penalty %.8f\" % lstm_reg_penalty)\n",
    "                print (\"Sigmoid dropout %.4f\" %  dropout)\n",
    "                print (\"Sigmoid reg_penalty %.8f\" % sig_reg_penalty)                \n",
    "\n",
    "                print(\"Xval Accuracy %.3f, Xval F1 %.3f, f_score %.3f (beta %.3f)\" % \n",
    "                      (sklearn.metrics.accuracy_score(y_xval_pred, y_xval), \n",
    "                       sklearn.metrics.f1_score(y_xval_pred, y_xval),\n",
    "                       score, beta))\n",
    "                \n",
    "                confusion_matrix = sklearn.metrics.confusion_matrix(y_xval_pred, y_xval)\n",
    "                print(confusion_matrix)\n",
    "                false_positive = confusion_matrix[1][0]\n",
    "                false_negative = confusion_matrix[0][1]\n",
    "                raw_score = 1.0 * (true_positive - false_positive) / np.sum(confusion_matrix)\n",
    "                    \n",
    "                print (\"Raw score 2 %f\" % raw_score)\n",
    "                \n",
    "                # freeze embeddings layer and train some more\n",
    "                elayer = model.layers[0]\n",
    "                \n",
    "                print(elayer.trainable)\n",
    "                elayer.trainable = False\n",
    "                print(elayer.trainable)\n",
    "                model.compile(loss='binary_crossentropy', optimizer='adam', metrics=['accuracy'])\n",
    "                print(model.summary())\n",
    "                \n",
    "                model.fit(X_train, y_train, validation_data=(X_xval, y_xval), epochs=5, batch_size=1024)\n",
    "                \n",
    "                y_train_prob = model.predict(X_train)\n",
    "                \n",
    "                beta=(2.0/3.0) # penalize false positives more than false negatives\n",
    "                thresh, score = selectThreshold(y_train_prob, y_train, beta=beta)\n",
    "                y_train_pred = y_train_prob >= thresh\n",
    "                \n",
    "                print(\"Train Accuracy %.3f, Train F1 %.3f, f_score %.3f (beta %.3f)\" % \n",
    "                      (sklearn.metrics.accuracy_score(y_train_pred, y_train), \n",
    "                       sklearn.metrics.f1_score(y_train_pred, y_train),\n",
    "                       score, beta))\n",
    "                \n",
    "                print(sklearn.metrics.confusion_matrix(y_train_pred, y_train))\n",
    "\n",
    "                y_xval_prob = model.predict(X_xval)\n",
    "                \n",
    "                thresh, score = selectThreshold(y_xval_prob, y_xval, beta=beta)\n",
    "                y_xval_pred = y_xval_prob >= thresh\n",
    "                \n",
    "                print (\"LSTM units %d\" % lstm_units)\n",
    "                print (\"LSTM reg_penalty %.8f\" % lstm_reg_penalty)\n",
    "                print (\"Sigmoid dropout %.4f\" %  dropout)\n",
    "                print (\"Sigmoid reg_penalty %.8f\" % sig_reg_penalty)                \n",
    "\n",
    "                print(\"Xval Accuracy %.3f, Xval F1 %.3f, f_score %.3f (beta %.3f)\" % \n",
    "                      (sklearn.metrics.accuracy_score(y_xval_pred, y_xval), \n",
    "                       sklearn.metrics.f1_score(y_xval_pred, y_xval),\n",
    "                       score, beta))\n",
    "                \n",
    "                confusion_matrix = sklearn.metrics.confusion_matrix(y_xval_pred, y_xval)\n",
    "                print(confusion_matrix)\n",
    "                false_positive = confusion_matrix[1][0]\n",
    "                true_positive =  confusion_matrix[1][1]\n",
    "                true_negative =  confusion_matrix[0][0]\n",
    "                false_negative = confusion_matrix[0][1]\n",
    "                raw_score = 1.0 * (true_positive - false_positive) / np.sum(confusion_matrix)\n",
    "                    \n",
    "                print (\"Raw score 2 %f\" % raw_score)\n",
    "\n"
   ]
  },
  {
   "cell_type": "code",
   "execution_count": null,
   "metadata": {
    "collapsed": true
   },
   "outputs": [],
   "source": []
  }
 ],
 "metadata": {
  "kernelspec": {
   "display_name": "TensorFlow",
   "language": "python",
   "name": "tensorflow"
  },
  "language_info": {
   "codemirror_mode": {
    "name": "ipython",
    "version": 2
   },
   "file_extension": ".py",
   "mimetype": "text/x-python",
   "name": "python",
   "nbconvert_exporter": "python",
   "pygments_lexer": "ipython2",
   "version": "2.7.13"
  }
 },
 "nbformat": 4,
 "nbformat_minor": 2
}
